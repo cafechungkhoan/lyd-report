{
  "nbformat": 4,
  "nbformat_minor": 0,
  "metadata": {
    "colab": {
      "name": "MWG Sentiment 17122021.ipynb",
      "provenance": [],
      "collapsed_sections": [],
      "authorship_tag": "ABX9TyNy+LZajl/mfPBEXZZwvyrC",
      "include_colab_link": true
    },
    "kernelspec": {
      "display_name": "Python 3",
      "name": "python3"
    },
    "language_info": {
      "name": "python"
    }
  },
  "cells": [
    {
      "cell_type": "markdown",
      "metadata": {
        "id": "view-in-github",
        "colab_type": "text"
      },
      "source": [
        "<a href=\"https://colab.research.google.com/github/cafechungkhoan/lyd-report/blob/main/MWG_Sentiment_17122021.ipynb\" target=\"_parent\"><img src=\"https://colab.research.google.com/assets/colab-badge.svg\" alt=\"Open In Colab\"/></a>"
      ]
    },
    {
      "cell_type": "markdown",
      "metadata": {
        "id": "qZ7yl09rrk20"
      },
      "source": [
        "# **LYD - Comment Sentiment Analysis**\n",
        "\n",
        "*LYD là hệ thống áp dụng Deep Learning dùng để quét, tóm tắt, phân tích và dự báo cảm xúc của nhà đầu tư. Với mục đích hỗ trợ nghiệp vụ tư vấn IR (Investor Relation)*\n",
        "\n",
        "**Dữ liệu input**: \n",
        "là dữ liệu bình luận (text) của nhà đầu tư trên mạng xã hội và các diễn đàn chứng khoán lớn. Quy mô tracking 700k user\n",
        "\n",
        "**Các Model áp dụng**: \n",
        "Bert, transformer, SVM, PhoBERT \n",
        "\n",
        "### **LYD trả lời các câu hỏi chính**:\n",
        "* **Mã cổ phiếu của doanh nghiệp có được nhà đầu tư yêu thích không?** (Áp dụng Text Classification Model xác định trạng thái cảm xúc của nhà đầu tư hiện tại là tích cực (hài lòng) hay tiêu cực (không hài lòng) về cổ phiếu YYY được xác định trước.)\n",
        "* **Nhà đầu tư đang bàn tán gì về cổ phiếu doanh nghiệp?** (Áp dụng Topic Cluster Model phân loại các chủ đề chính cơ bản / kĩ thuật / thời sự & vĩ mô / tin đồn) của cổ phiếu YYY được xác định trước.)\n",
        "* **Đâu là chủ đề nhà đầu tư thích nhất về cổ phiếu?** (Áp dụng BERT Text Summarize để tóm tắt nội dung comment)\n",
        "\n",
        "---"
      ]
    },
    {
      "cell_type": "code",
      "metadata": {
        "colab": {
          "base_uri": "https://localhost:8080/"
        },
        "id": "Es8R_AF5XzTH",
        "outputId": "30406a9c-379b-43de-fef0-368e5ab8cf4e"
      },
      "source": [
        "#@title Input Parameter\n",
        "a = input('Nhập mã cần search: ')\n",
        "b= input('Nhập giới hạn comment: ')"
      ],
      "execution_count": null,
      "outputs": [
        {
          "name": "stdout",
          "output_type": "stream",
          "text": [
            "Nhập mã cần search: mwg\n",
            "Nhập giới hạn comment: 1000\n"
          ]
        }
      ]
    },
    {
      "cell_type": "markdown",
      "metadata": {
        "id": "uZ3ediRp_R7i"
      },
      "source": [
        "# **Sentiment Applied**"
      ]
    },
    {
      "cell_type": "code",
      "metadata": {
        "colab": {
          "base_uri": "https://localhost:8080/"
        },
        "id": "sJkOqVtjfYOE",
        "outputId": "da7be1cf-7d90-41f6-854d-e510ecea1268"
      },
      "source": [
        ""
      ],
      "execution_count": null,
      "outputs": [
        {
          "output_type": "stream",
          "name": "stdout",
          "text": [
            "standardized data...\n",
            "Processing step 1: Lower Case, Removed Https tag, Removed Stopwords\n",
            "CPU times: user 6.9 ms, sys: 0 ns, total: 6.9 ms\n",
            "Wall time: 6.92 ms\n",
            "CPU times: user 32.8 ms, sys: 0 ns, total: 32.8 ms\n",
            "Wall time: 32.8 ms\n",
            "CPU times: user 3.99 ms, sys: 0 ns, total: 3.99 ms\n",
            "Wall time: 4 ms\n",
            "Done\n",
            "2021-12-17 10:12:08,647 https://github.com/undertheseanlp/playground/releases/download/1.3.x/sa_svm_vlsp2016-sa_20210107.zip not found in cache, downloading to /tmp/tmpki5nzgpo\n"
          ]
        },
        {
          "output_type": "stream",
          "name": "stderr",
          "text": [
            "100%|██████████| 2234880/2234880 [00:00<00:00, 36870333.56B/s]"
          ]
        },
        {
          "output_type": "stream",
          "name": "stdout",
          "text": [
            "2021-12-17 10:12:08,997 copying /tmp/tmpki5nzgpo to cache at /root/.underthesea/models/sa_svm_vlsp2016-sa_20210107.zip\n",
            "2021-12-17 10:12:09,002 removing temp file /tmp/tmpki5nzgpo\n"
          ]
        },
        {
          "output_type": "stream",
          "name": "stderr",
          "text": [
            "\n"
          ]
        },
        {
          "output_type": "stream",
          "name": "stdout",
          "text": [
            "Processing step 3: Tokenize\n",
            "Processing step 4: POS Tagging\n",
            "Processing step 5: Entity Regconize\n",
            "Processing step 6: Vectorize PhoBERT\n",
            "Process model SVM....\n",
            ">>> Done\n"
          ]
        }
      ]
    },
    {
      "cell_type": "code",
      "metadata": {
        "id": "YybUHdBLR1jE"
      },
      "source": [
        ""
      ],
      "execution_count": null,
      "outputs": []
    },
    {
      "cell_type": "markdown",
      "metadata": {
        "id": "7sDmy8QVQqI2"
      },
      "source": [
        "# **Visualize Sentiment Analysis**\n",
        "\n",
        "Ý nghĩa của biểu đồ: Biểu diễn số lượng bình luận tích cực / tiêu cực / trung tính theo khung thời gian.\n",
        "* Positive Comment: Bình luận được máy nhận diện là tích cực\n",
        "* Negative Comment: Bình luận được máy nhận diện là tiêu cực\n",
        "* Neutral Comment: Bình luận được máy nhận diện là không có trạng thái cảm xúc (hoặc máy không nhận diện được)"
      ]
    },
    {
      "cell_type": "code",
      "metadata": {
        "colab": {
          "base_uri": "https://localhost:8080/",
          "height": 406
        },
        "id": "99BSKhlHSwdP",
        "outputId": "4d7652eb-a58d-4c68-f462-619dd57d7833"
      },
      "source": [
        ""
      ],
      "execution_count": null,
      "outputs": [
        {
          "output_type": "execute_result",
          "data": {
            "text/plain": [
              "<matplotlib.axes._subplots.AxesSubplot at 0x7fa128b15e50>"
            ]
          },
          "metadata": {},
          "execution_count": 12
        },
        {
          "output_type": "display_data",
          "data": {
            "image/png": "[encoded data removed]",
            "text/plain": [
              "<Figure size 1224x360 with 1 Axes>"
            ]
          },
          "metadata": {
            "needs_background": "light"
          }
        }
      ]
    },
    {
      "cell_type": "code",
      "metadata": {
        "colab": {
          "base_uri": "https://localhost:8080/",
          "height": 143
        },
        "id": "Wi3ZIer2y4h8",
        "outputId": "04293d7d-da6c-4613-d98f-e32e2913f455"
      },
      "source": [
        ""
      ],
      "execution_count": null,
      "outputs": [
        {
          "output_type": "execute_result",
          "data": {
            "text/html": [
              "\n",
              "  <div id=\"df-b823420e-4f70-49dd-8b37-8734f8a5dc1b\">\n",
              "    <div class=\"colab-df-container\">\n",
              "      <div>\n",
              "<style scoped>\n",
              "    .dataframe tbody tr th:only-of-type {\n",
              "        vertical-align: middle;\n",
              "    }\n",
              "\n",
              "    .dataframe tbody tr th {\n",
              "        vertical-align: top;\n",
              "    }\n",
              "\n",
              "    .dataframe thead th {\n",
              "        text-align: right;\n",
              "    }\n",
              "</style>\n",
              "<table border=\"1\" class=\"dataframe\">\n",
              "  <thead>\n",
              "    <tr style=\"text-align: right;\">\n",
              "      <th></th>\n",
              "      <th>Sentiment_negative</th>\n",
              "      <th>Sentiment_neutral</th>\n",
              "      <th>Sentiment_positive</th>\n",
              "    </tr>\n",
              "    <tr>\n",
              "      <th>date</th>\n",
              "      <th></th>\n",
              "      <th></th>\n",
              "      <th></th>\n",
              "    </tr>\n",
              "  </thead>\n",
              "  <tbody>\n",
              "    <tr>\n",
              "      <th>11/2021</th>\n",
              "      <td>36.0</td>\n",
              "      <td>356.0</td>\n",
              "      <td>30.0</td>\n",
              "    </tr>\n",
              "    <tr>\n",
              "      <th>12/2021</th>\n",
              "      <td>15.0</td>\n",
              "      <td>51.0</td>\n",
              "      <td>12.0</td>\n",
              "    </tr>\n",
              "  </tbody>\n",
              "</table>\n",
              "</div>\n",
              "      <button class=\"colab-df-convert\" onclick=\"convertToInteractive('df-b823420e-4f70-49dd-8b37-8734f8a5dc1b')\"\n",
              "              title=\"Convert this dataframe to an interactive table.\"\n",
              "              style=\"display:none;\">\n",
              "        \n",
              "  <svg xmlns=\"http://www.w3.org/2000/svg\" height=\"24px\"viewBox=\"0 0 24 24\"\n",
              "       width=\"24px\">\n",
              "    <path d=\"M0 0h24v24H0V0z\" fill=\"none\"/>\n",
              "    <path d=\"M18.56 5.44l.94 2.06.94-2.06 2.06-.94-2.06-.94-.94-2.06-.94 2.06-2.06.94zm-11 1L8.5 8.5l.94-2.06 2.06-.94-2.06-.94L8.5 2.5l-.94 2.06-2.06.94zm10 10l.94 2.06.94-2.06 2.06-.94-2.06-.94-.94-2.06-.94 2.06-2.06.94z\"/><path d=\"M17.41 7.96l-1.37-1.37c-.4-.4-.92-.59-1.43-.59-.52 0-1.04.2-1.43.59L10.3 9.45l-7.72 7.72c-.78.78-.78 2.05 0 2.83L4 21.41c.39.39.9.59 1.41.59.51 0 1.02-.2 1.41-.59l7.78-7.78 2.81-2.81c.8-.78.8-2.07 0-2.86zM5.41 20L4 18.59l7.72-7.72 1.47 1.35L5.41 20z\"/>\n",
              "  </svg>\n",
              "      </button>\n",
              "      \n",
              "  <style>\n",
              "    .colab-df-container {\n",
              "      display:flex;\n",
              "      flex-wrap:wrap;\n",
              "      gap: 12px;\n",
              "    }\n",
              "\n",
              "    .colab-df-convert {\n",
              "      background-color: #E8F0FE;\n",
              "      border: none;\n",
              "      border-radius: 50%;\n",
              "      cursor: pointer;\n",
              "      display: none;\n",
              "      fill: #1967D2;\n",
              "      height: 32px;\n",
              "      padding: 0 0 0 0;\n",
              "      width: 32px;\n",
              "    }\n",
              "\n",
              "    .colab-df-convert:hover {\n",
              "      background-color: #E2EBFA;\n",
              "      box-shadow: 0px 1px 2px rgba(60, 64, 67, 0.3), 0px 1px 3px 1px rgba(60, 64, 67, 0.15);\n",
              "      fill: #174EA6;\n",
              "    }\n",
              "\n",
              "    [theme=dark] .colab-df-convert {\n",
              "      background-color: #3B4455;\n",
              "      fill: #D2E3FC;\n",
              "    }\n",
              "\n",
              "    [theme=dark] .colab-df-convert:hover {\n",
              "      background-color: #434B5C;\n",
              "      box-shadow: 0px 1px 3px 1px rgba(0, 0, 0, 0.15);\n",
              "      filter: drop-shadow(0px 1px 2px rgba(0, 0, 0, 0.3));\n",
              "      fill: #FFFFFF;\n",
              "    }\n",
              "  </style>\n",
              "\n",
              "      <script>\n",
              "        const buttonEl =\n",
              "          document.querySelector('#df-b823420e-4f70-49dd-8b37-8734f8a5dc1b button.colab-df-convert');\n",
              "        buttonEl.style.display =\n",
              "          google.colab.kernel.accessAllowed ? 'block' : 'none';\n",
              "\n",
              "        async function convertToInteractive(key) {\n",
              "          const element = document.querySelector('#df-b823420e-4f70-49dd-8b37-8734f8a5dc1b');\n",
              "          const dataTable =\n",
              "            await google.colab.kernel.invokeFunction('convertToInteractive',\n",
              "                                                     [key], {});\n",
              "          if (!dataTable) return;\n",
              "\n",
              "          const docLinkHtml = 'Like what you see? Visit the ' +\n",
              "            '<a target=\"_blank\" href=https://colab.research.google.com/notebooks/data_table.ipynb>data table notebook</a>'\n",
              "            + ' to learn more about interactive tables.';\n",
              "          element.innerHTML = '';\n",
              "          dataTable['output_type'] = 'display_data';\n",
              "          await google.colab.output.renderOutput(dataTable, element);\n",
              "          const docLink = document.createElement('div');\n",
              "          docLink.innerHTML = docLinkHtml;\n",
              "          element.appendChild(docLink);\n",
              "        }\n",
              "      </script>\n",
              "    </div>\n",
              "  </div>\n",
              "  "
            ],
            "text/plain": [
              "         Sentiment_negative  Sentiment_neutral  Sentiment_positive\n",
              "date                                                              \n",
              "11/2021  36.0                356.0              30.0              \n",
              "12/2021  15.0                51.0               12.0              "
            ]
          },
          "metadata": {},
          "execution_count": 13
        }
      ]
    },
    {
      "cell_type": "code",
      "metadata": {
        "colab": {
          "base_uri": "https://localhost:8080/",
          "height": 394
        },
        "id": "SpPpyNnvwNAA",
        "outputId": "22a5d0d2-126a-44bc-e764-1de649b0b5bc"
      },
      "source": [
        ""
      ],
      "execution_count": null,
      "outputs": [
        {
          "output_type": "execute_result",
          "data": {
            "text/plain": [
              "<matplotlib.axes._subplots.AxesSubplot at 0x7fa128ea5d50>"
            ]
          },
          "metadata": {},
          "execution_count": 14
        },
        {
          "output_type": "display_data",
          "data": {
            "image/png": "[encoded data removed]",
            "text/plain": [
              "<Figure size 1224x360 with 1 Axes>"
            ]
          },
          "metadata": {
            "needs_background": "light"
          }
        }
      ]
    },
    {
      "cell_type": "code",
      "metadata": {
        "id": "JOl9gkj906UO",
        "colab": {
          "base_uri": "https://localhost:8080/",
          "height": 394
        },
        "outputId": "2a1d5ff1-ec7b-4e8f-c889-c6abea149237"
      },
      "source": [
        ""
      ],
      "execution_count": null,
      "outputs": [
        {
          "output_type": "execute_result",
          "data": {
            "text/plain": [
              "<matplotlib.axes._subplots.AxesSubplot at 0x7fa128ebf250>"
            ]
          },
          "metadata": {},
          "execution_count": 15
        },
        {
          "output_type": "display_data",
          "data": {
            "image/png": "[encoded data removed]",
            "text/plain": [
              "<Figure size 1224x360 with 1 Axes>"
            ]
          },
          "metadata": {
            "needs_background": "light"
          }
        }
      ]
    },
    {
      "cell_type": "code",
      "metadata": {
        "id": "sLFQI87EL_qa"
      },
      "source": [
        ""
      ],
      "execution_count": null,
      "outputs": []
    },
    {
      "cell_type": "code",
      "metadata": {
        "id": "FmXgUCO0MhQ8"
      },
      "source": [
        ""
      ],
      "execution_count": null,
      "outputs": []
    },
    {
      "cell_type": "markdown",
      "metadata": {
        "id": "WcFMvyi4R8na"
      },
      "source": [
        "# **Visualize Topic Cluster**\n",
        "\n",
        "Ý nghĩa biểu đồ: Phân loại comment theo 4 nhóm: Cơ bản / Kĩ thuật / Vĩ mô / Tin đồn. Và nhận diện cảm xúc (tích cực / tiêu cực) trên từng loại topic"
      ]
    },
    {
      "cell_type": "code",
      "metadata": {
        "id": "dDDPWUogM4s6",
        "colab": {
          "base_uri": "https://localhost:8080/",
          "height": 524
        },
        "outputId": "9de01a76-203f-4f49-8820-23c40cb43433"
      },
      "source": [
        ""
      ],
      "execution_count": null,
      "outputs": [
        {
          "output_type": "execute_result",
          "data": {
            "text/plain": [
              "Text(0.5, 1.0, 'Topic Tin đồn')"
            ]
          },
          "metadata": {},
          "execution_count": 18
        },
        {
          "output_type": "display_data",
          "data": {
            "image/png": "[encoded data removed]",
            "text/plain": [
              "<Figure size 864x288 with 1 Axes>"
            ]
          },
          "metadata": {
            "needs_background": "light"
          }
        },
        {
          "output_type": "display_data",
          "data": {
            "image/png": "[encoded data removed]",
            "text/plain": [
              "<Figure size 874.08x216 with 4 Axes>"
            ]
          },
          "metadata": {
            "needs_background": "light"
          }
        }
      ]
    },
    {
      "cell_type": "code",
      "metadata": {
        "id": "qjZaFRxC-YO2",
        "colab": {
          "base_uri": "https://localhost:8080/"
        },
        "outputId": "61cc9079-ff83-4ce5-bf94-b293dc10447d"
      },
      "source": [
        ""
      ],
      "execution_count": null,
      "outputs": [
        {
          "output_type": "stream",
          "name": "stdout",
          "text": [
            "Số comment cơ bản =  525 . Số người tham gia comment =  522\n",
            "Số comment kĩ thuật =  427 . Số người tham gia comment =  422\n",
            "Số comment thời sự & vĩ mô =  227 . Số người tham gia comment =  225\n",
            "Số comment tin đồn =  243 . Số người tham gia comment =  242\n"
          ]
        }
      ]
    },
    {
      "cell_type": "code",
      "source": [
        "pd.set_option('max_rows', 100)\n",
        "pd.set_option('max_colwidth', 400)\n",
        "pd.describe_option('max_colwidth')"
      ],
      "metadata": {
        "colab": {
          "base_uri": "https://localhost:8080/"
        },
        "id": "ik6fO5aM44MS",
        "outputId": "55589980-7ec1-49c7-945b-bc783aa962dd"
      },
      "execution_count": null,
      "outputs": [
        {
          "output_type": "stream",
          "name": "stdout",
          "text": [
            "display.max_colwidth : int or None\n",
            "    The maximum width in characters of a column in the repr of\n",
            "    a pandas data structure. When the column overflows, a \"...\"\n",
            "    placeholder is embedded in the output. A 'None' value means unlimited.\n",
            "    [default: 50] [currently: 400]\n"
          ]
        }
      ]
    },
    {
      "cell_type": "code",
      "metadata": {
        "id": "JEW3uv3Zm_QY",
        "colab": {
          "base_uri": "https://localhost:8080/",
          "height": 1000
        },
        "outputId": "a31ce2e7-b9a2-48b7-b317-eb238aee4a63"
      },
      "source": [
        "a = tin_don['originalContent']\n",
        "a = pd.DataFrame(a)\n",
        "a.head(100)"
      ],
      "execution_count": null,
      "outputs": [
        {
          "output_type": "execute_result",
          "data": {
            "text/html": [
              "\n",
              "  <div id=\"df-cde06959-34d2-49f2-8333-a8cffc5bcc86\">\n",
              "    <div class=\"colab-df-container\">\n",
              "      <div>\n",
              "<style scoped>\n",
              "    .dataframe tbody tr th:only-of-type {\n",
              "        vertical-align: middle;\n",
              "    }\n",
              "\n",
              "    .dataframe tbody tr th {\n",
              "        vertical-align: top;\n",
              "    }\n",
              "\n",
              "    .dataframe thead th {\n",
              "        text-align: right;\n",
              "    }\n",
              "</style>\n",
              "<table border=\"1\" class=\"dataframe\">\n",
              "  <thead>\n",
              "    <tr style=\"text-align: right;\">\n",
              "      <th></th>\n",
              "      <th>originalContent</th>\n",
              "    </tr>\n",
              "  </thead>\n",
              "  <tbody>\n",
              "    <tr>\n",
              "      <th>0</th>\n",
              "      <td>1) CTG: Khối ngoại mua ròng CTG trong 11 phiên liên tục, sở hữu trên 25% vốn VietinBank 2) REE: 3 dự án điện gió là động lực tăng trưởng lợi nhuận của REE năm 2022, kỳ vọng dự án M&amp;E nhà ga T3 Tân Sơn Nhất và sân bay Long Thành 3) MWG: Blue Sport; Xuất hiện hình ảnh chuỗi bán đồ thể thao của Thế Giới Di Động, có đủ các thương hiệu như Nike, Adidas, Puma,... 4) MML/VSN: Anco chuyển nhượng 24,9%...</td>\n",
              "    </tr>\n",
              "    <tr>\n",
              "      <th>1</th>\n",
              "      <td>Bảng tin mỗi ngày: 30/11/2021 “Có tâm mới có tầm” CHÂN THÀNH VÀ ĐỈNH CAO Dòng tiền: Kết thúc phiên giao dịch ngày 29/11/2021, chỉ số VNINDEX giảm 0,55% đóng cửa ở mức 1.484,84 điểm. Giá trị giao dịch trên sàn HOSE đạt 31.355 tỷ đồng, giá trị giao dịch toàn thị trường tính cả 3 sàn đạt 38.596 tỷ đồng, giảm 8% so với phiên liền trước. NĐT nước ngoài BÁN ròng 539.9 tỷ đồng, tính riêng giao dịch k...</td>\n",
              "    </tr>\n",
              "    <tr>\n",
              "      <th>5</th>\n",
              "      <td>Bảng tin mỗi ngày: 29/11/2021 “Có tâm mới có tầm” CHÂN THÀNH VÀ ĐỈNH CAO Dòng tiền: Kết thúc phiên giao dịch ngày 26/11/2021, chỉ số VNINDEX giảm 0,52% đóng cửa ở mức 1,493,03 điểm. Giá trị giao dịch trên sàn HOSE đạt 35,073 tỷ đồng, giá trị giao dịch toàn thị trường tính cả 3 sàn đạt 41,966.0 tỷ đồng, Tăng 12.6% so với phiên liền trước. NĐT nước ngoài BÁN ròng 2106.6 tỷ đồng, tính riêng giao ...</td>\n",
              "    </tr>\n",
              "    <tr>\n",
              "      <th>8</th>\n",
              "      <td>Chủ nhật, 28/11/2021, 08:00 (GMT+7) Cá nhân trong nước mua ròng tuần thứ 4 liên tiếp, gom mạnh VPB và HPG Thị trường chứng khoán biến động tích cực trong tuần từ 22-26/11. Cụ thể, VN-Index đóng cửa phiên giao dịch cuối tuần ở mức 1.493,03 điểm, tương ứng tăng 40,68 điểm (2,8%) so với tuần trước đó. HNX-Index cũng tăng 4,66 điểm (1%) lên 458,63 điểm. UPCoM-Index tăng 1,1 điểm (1%) lên 114,34 đi...</td>\n",
              "    </tr>\n",
              "    <tr>\n",
              "      <th>9</th>\n",
              "      <td>BID: Dự kiến phát hành tối đa 1,03 tỷ cổ phiếu để trả cổ tức, tỷ lệ 25,7% TTF: Được chấp thuận phát hành 100 triệu cổ phiếu để chào bán riêng lẻ và hoán đổi nợ BCM: Dragon Capital khuyên thoái vốn ở một số công ty con SSI: Em trai Chủ tịch Nguyễn Duy Hưng và công ty liên quan trao tay gần 2,5 triệu cổ phiếu Nới lỏng giãn cách, nhiều doanh nghiệp công bố kết quả kinh doanh tháng 10 khả quan: MW...</td>\n",
              "    </tr>\n",
              "    <tr>\n",
              "      <th>10</th>\n",
              "      <td>pigbank đã viết: ↑ Lịch sử luôn lặp lại , tháng 10 năm 2003 , index rơi từ đỉnh hơn 570 về 130 rồi bắt đầu phục hồi, sau gần 4 năm, lên đỉnh 1170 điểm , tăng khoảng 900% , và sau đó là downtrend gần 2 năm giảm từ 1170 về 234 tạo đáy rồi cũng hồi phục đi lên tới bây giờ . HNX ra đời sau VN index , thoi 2007 cũng tăng lên hon 470 điểm , rồi rơi về hơn 50 điểm vào cuối năm 2012 , vừa rồi tăng lên...</td>\n",
              "    </tr>\n",
              "    <tr>\n",
              "      <th>20</th>\n",
              "      <td>tomriddle1234 đã viết: ↑ Lũy kế đến 26.11.2021, Top 10 MUA RÒNG của tự doanh: 1. KDH - Giá trị 816,270 tỷ - lãi 74,01% 2. MWG - Giá trị 665,319 tỷ - lãi 79,07% 3. FPT - Giá trị 475,112 tỷ - lãi 96,49% 4. CTG - Giá trị 435,376 tỷ - lãi 28,13% 5. VPB - Giá trị: 363,567 tỷ - lãi 117,09% 6. PNJ - Giá trị 344,977 tỷ - lãi 26,52% 7. VIC - Giá trị 343,765 tỷ - lãi 2,41% 8. TCB - Giá trị 338,928 tỷ- l...</td>\n",
              "    </tr>\n",
              "    <tr>\n",
              "      <th>21</th>\n",
              "      <td>tomriddle1234 đã viết: ↑ Lũy kế đến 26.11.2021, Top 10 MUA RÒNG của tự doanh: 1. KDH - Giá trị 816,270 tỷ - lãi 74,01% 2. MWG - Giá trị 665,319 tỷ - lãi 79,07% 3. FPT - Giá trị 475,112 tỷ - lãi 96,49% 4. CTG - Giá trị 435,376 tỷ - lãi 28,13% 5. VPB - Giá trị: 363,567 tỷ - lãi 117,09% 6. PNJ - Giá trị 344,977 tỷ - lãi 26,52% 7. VIC - Giá trị 343,765 tỷ - lãi 2,41% 8. TCB - Giá trị 338,928 tỷ- l...</td>\n",
              "    </tr>\n",
              "    <tr>\n",
              "      <th>22</th>\n",
              "      <td>Lũy kế đến 26.11.2021, Top 10 MUA RÒNG của tự doanh: 1. KDH - Giá trị 816,270 tỷ - lãi 74,01% 2. MWG - Giá trị 665,319 tỷ - lãi 79,07% 3. FPT - Giá trị 475,112 tỷ - lãi 96,49% 4. CTG - Giá trị 435,376 tỷ - lãi 28,13% 5. VPB - Giá trị: 363,567 tỷ - lãi 117,09% 6. PNJ - Giá trị 344,977 tỷ - lãi 26,52% 7. VIC - Giá trị 343,765 tỷ - lãi 2,41% 8. TCB - Giá trị 338,928 tỷ- lãi 71,43% 9. VHM - Giá tr...</td>\n",
              "    </tr>\n",
              "    <tr>\n",
              "      <th>28</th>\n",
              "      <td>phamkhachoivps đã viết: ↑ Bảng tin mỗi ngày: 25/11/2021 “Có tâm mới có tầm” CHÂN THÀNH VÀ ĐỈNH CAO Dòng tiền: Kết thúc phiên giao dịch ngày 24/11/2021, chỉ số VNINDEX tăng 1.72% đóng cửa ở mức 1,488 điểm. Giá trị giao dịch trên sàn HOSE đạt 35.674 tỷ đồng, giá trị giao dịch toàn thị trường tính cả 3 sàn đạt 42.190 tỷ đồng, tăng 33% so với phiên liền trước. NHÀ ĐẦU TƯ NƯỚC NGOÀI: Bán ròng tập t...</td>\n",
              "    </tr>\n",
              "    <tr>\n",
              "      <th>29</th>\n",
              "      <td>BigDady1516 đã viết: ↑ Giảm dự trữ bắt buộc + nới Zoom tín dụng Lồi mồm --- Gộp bài viết, 14/11/2021, Bài cũ: 14/11/2021 --- Quỹ ngoại tự doanh mua mạnh B cả tuần, chốt lãi hàng khác cho nhỏ lẻ --- Gộp bài viết, 14/11/2021 --- Ace chú ý vào hàng : FPT,MWG,PNJ,TCB,HDB,STB,VPB,MBB ... Xem tất cả FPT, MWG đã xanh Mua cả PNJ, DGW nhé ae</td>\n",
              "    </tr>\n",
              "    <tr>\n",
              "      <th>31</th>\n",
              "      <td>tomriddle1234 đã viết: ↑ Hôm nay tự doanh mua ròng 200 tỷ 1. VHM mua ròng 89,93 tỷ 2. VIC mua ròng 59,46 tỷ 3. MSN mua ròng 55,72 tỷ .... FPT bán ròng 39,18 tỷ Các bác nào quen với cách đánh của SSI rồi thì cũng biết các anh nổi tiếng là ăn ly ăn lines . Nên việc mua đi bán lại vài chục tỷ đối với các anh cũng chẳng phải việc to tát gì . FPT: Tính đến ngày 25.11.2021, Tự doanh mua ròng Giá trị...</td>\n",
              "    </tr>\n",
              "    <tr>\n",
              "      <th>34</th>\n",
              "      <td>tomriddle1234 đã viết: ↑ Bác có thấy tàu nào tôi lái mà chưa về ga chưa . Phải nói để các bác 10x biết vị thế của mình yếu hơn các bác 9x và CFPT2105 giá 3.5x thì yếu hơn hẳn mấy bác 2.8x - 3.1x rồi. Chứ lúc có chuyện mà mấy bác toa SUPER VIP thì cứ hihi haha thì sẽ cảm thấy khó chịu thật sự nếu không hiểu vị thế của mình. Xem tất cả Em theo bác mấy tàu rồi nên hiểu mà. Nhớ lần đầu theo bác MW...</td>\n",
              "    </tr>\n",
              "    <tr>\n",
              "      <th>38</th>\n",
              "      <td>YourMomAHoe đã viết: ↑ Haha tự nhiên thấy FPT tăng, vô xem thì ra là do bác @tomriddle1234 đẩy. Chung tàu với bác MWG, ko chơi MSN vì quan điểm cá nhân, nhưng chung tàu FPT với bác tiếp rồi. FPT mà còn ai chim lợn thì xác định tâm cmn thần bác nhỉ. Xem tất cả Fpt mà cũng có chim lợn à bác?</td>\n",
              "    </tr>\n",
              "    <tr>\n",
              "      <th>39</th>\n",
              "      <td>Haha tự nhiên thấy FPT tăng, vô xem thì ra là do bác @tomriddle1234 đẩy. Chung tàu với bác MWG, ko chơi MSN vì quan điểm cá nhân, nhưng chung tàu FPT với bác tiếp rồi. FPT mà còn ai chim lợn thì xác định tâm cmn thần bác nhỉ.</td>\n",
              "    </tr>\n",
              "    <tr>\n",
              "      <th>44</th>\n",
              "      <td>thachngo đã viết: ↑ Lần trước ông này hô 1k5 thì lên tới 1k2. Lần này ông hô 2k5, dùng theo quy tắc tam suất thì lên được 2k. Hị hị Xem tất cả Quí 4/2020 hô lên 1800 nhé cụ. Thứ sáu, 18/12/2020, 10:57 (GMT+7) PYN Elite Fund: VN-Index đạt 1.800 điểm là con số khả thi Theo báo cáo nhà đầu tư quý IV, PYN Elite đã giải đáp nhiều vấn đề liên quan đến đánh giá thị trường chứng khoán Việt Nam và hệ t...</td>\n",
              "    </tr>\n",
              "    <tr>\n",
              "      <th>45</th>\n",
              "      <td>pigbank đã viết: ↑ Lịch sử luôn lặp lại , tháng 10 năm 2003 , index rơi từ đỉnh hơn 570 về 130 rồi bắt đầu phục hồi, sau gần 4 năm, lên đỉnh 1170 điểm , tăng khoảng 900% , và sau đó là downtrend gần 2 năm giảm từ 1170 về 234 tạo đáy rồi cũng hồi phục đi lên tới bây giờ . HNX ra đời sau VN index , thoi 2007 cũng tăng lên hon 470 điểm , rồi rơi về hơn 50 điểm vào cuối năm 2012 , vừa rồi tăng lên...</td>\n",
              "    </tr>\n",
              "    <tr>\n",
              "      <th>46</th>\n",
              "      <td>Bảng tin mỗi ngày: 25/11/2021 “Có tâm mới có tầm” CHÂN THÀNH VÀ ĐỈNH CAO Dòng tiền: Kết thúc phiên giao dịch ngày 24/11/2021, chỉ số VNINDEX tăng 1.72% đóng cửa ở mức 1,488 điểm. Giá trị giao dịch trên sàn HOSE đạt 35.674 tỷ đồng, giá trị giao dịch toàn thị trường tính cả 3 sàn đạt 42.190 tỷ đồng, tăng 33% so với phiên liền trước. NHÀ ĐẦU TƯ NƯỚC NGOÀI: Bán ròng tập trung VPB, VCI, HPG NĐT nướ...</td>\n",
              "    </tr>\n",
              "    <tr>\n",
              "      <th>47</th>\n",
              "      <td>Levanlam đã viết: ↑ Trong phiên giao dịch hôm nay, khối tự doanh mua vào 487.41 tỷ đồng và bán ra 637.87 tỷ đồng. Tính chung, khối tự doanh bán ròng 150.46 tỷ đồng. Chiều bán ra, khối tự doanh tập trung bán ròng cổ phiếu STB với giá trị đạt 62,9 tỷ đồng. Xếp tiếp theo lần lượt là các cổ phiếu VND (41,9 tỷ đồng), MSN (30,4 tỷ đồng), HPG (29,9 tỷ đồng), FPT (27,6 tỷ đồng). Ngoài ra, các cổ phiếu...</td>\n",
              "    </tr>\n",
              "    <tr>\n",
              "      <th>48</th>\n",
              "      <td>maker đã viết: ↑ Thật ra, tín hiệu mua đã có rõ ràng. Tuy nhiện hiện nó đang gặp đỉnh cũ gần nhất nên có thể lình xình để break qua, với lực mua như hôm nay thì khả năng break lên đến 80%, nên nếu mai chốt phiên trên và volume ổn thì đích đến khoảng 52 nhé bạn --- Gộp bài viết, 24/11/2021 lúc 20:29, Bài cũ: 24/11/2021 lúc 20:25 --- Bất ngờ nhất hôm nay là cổ phiếu ngành ngân hàng vẫn đang là đ...</td>\n",
              "    </tr>\n",
              "    <tr>\n",
              "      <th>49</th>\n",
              "      <td>Để tạo tâm lý chiến tốt thì mai nhóm ngân hàng giữ để tiền lại chạy ngược lại các dòng còn lại===&gt;&gt; TT sẽ ổn định, thanh khoản, GTGD vẫn tăng. Ngược lại mai nhóm ngân hàng mà rung sẽ tạo ảm giác nhóm trụ mà rung VNI lủng và trong khi đó các nhóm còn lại phục hồi chưa đủ mạnh===&gt;&gt;&gt; Áp lực bán tăng mạnh, VNI gặp khó khăn. Hôm nay VNI kéo hơi quá đà. cuchuoi_ngonthiet đã viết: ↑ Đúng như dự báo, ...</td>\n",
              "    </tr>\n",
              "    <tr>\n",
              "      <th>50</th>\n",
              "      <td>Đúng như dự báo, kẹp đâu kích đỏ để giải phóng. Hô hào xong, phiên chiều nay nhóm VN30, ngân hàng up mạnh là bán cật lực. Trong phiên giao dịch hôm nay, khối tự doanh mua vào 487.41 tỷ đồng và bán ra 637.87 tỷ đồng. Tính chung, khối tự doanh bán ròng 150.46 tỷ đồng. Chiều bán ra, khối tự doanh tập trung bán ròng cổ phiếu STB với giá trị đạt 62,9 tỷ đồng. Xếp tiếp theo lần lượt là các cổ phiếu ...</td>\n",
              "    </tr>\n",
              "    <tr>\n",
              "      <th>51</th>\n",
              "      <td>pigbank đã viết: ↑ Lịch sử luôn lặp lại , tháng 10 năm 2003 , index rơi từ đỉnh hơn 570 về 130 rồi bắt đầu phục hồi, sau gần 4 năm, lên đỉnh 1170 điểm , tăng khoảng 900% , và sau đó là downtrend gần 2 năm giảm từ 1170 về 234 tạo đáy rồi cũng hồi phục đi lên tới bây giờ . HNX ra đời sau VN index , thoi 2007 cũng tăng lên hon 470 điểm , rồi rơi về hơn 50 điểm vào cuối năm 2012 , vừa rồi tăng lên...</td>\n",
              "    </tr>\n",
              "    <tr>\n",
              "      <th>66</th>\n",
              "      <td>pigbank đã viết: ↑ Lịch sử luôn lặp lại , tháng 10 năm 2003 , index rơi từ đỉnh hơn 570 về 130 rồi bắt đầu phục hồi, sau gần 4 năm, lên đỉnh 1170 điểm , tăng khoảng 900% , và sau đó là downtrend gần 2 năm giảm từ 1170 về 234 tạo đáy rồi cũng hồi phục đi lên tới bây giờ . HNX ra đời sau VN index , thoi 2007 cũng tăng lên hon 470 điểm , rồi rơi về hơn 50 điểm vào cuối năm 2012 , vừa rồi tăng lên...</td>\n",
              "    </tr>\n",
              "    <tr>\n",
              "      <th>67</th>\n",
              "      <td>chenyouxing đã viết: ↑ mình cũng đồng tình với quan điểm là hoa sen + nam kim đang gặp khó, và giá cp của họ cũng tăng quá nhiều rồi, lịch sử lãnh đạo của họ cũng có 1 truyền thống ... với cổ đông nữa. Xem tất cả Hoa Sen còn mảng siêu thị vật liệu xây dựng sẽ phát triển lớn mạnh như mwg chứ ko thuần tuý sx và kd tôn mạ dù core này vẫn đang sinh LN tốt</td>\n",
              "    </tr>\n",
              "    <tr>\n",
              "      <th>73</th>\n",
              "      <td>SuSuCaRot đã viết: ↑ Mặc dù chưa có một thông tin cụ thể hơn nào được nêu ra nhưng việc Aeon Việt Nam một khi đạt được các điều kiện đủ để niêm yết thì chắc chắn đây sẽ là một thương vụ chào sàn \"bom tấn\" khi mà Aeon hiện đã trở thành một trong những tay chơi hàng đầu trong cả 2 phân khúc vận hành trung tâm thương mại cũng như bán lẻ. Cả 2 phân khúc này đều là những ngành nhiều tiềm năng nhưng...</td>\n",
              "    </tr>\n",
              "    <tr>\n",
              "      <th>75</th>\n",
              "      <td>Bảng tin mỗi ngày: 24/11/2021 “Có tâm mới có tầm” CHÂN THÀNH VÀ ĐỈNH CAO Dòng tiền: Kết thúc phiên giao dịch ngày 23/11/2021, chỉ số VNINDEX tăng 1,13% đóng cửa ở mức 1,463,63 điểm. Giá trị giao dịch trên sàn HOSE đạt 25,994 tỷ đồng, giá trị giao dịch toàn thị trường tính cả 3 sàn đạt 31,733.6 tỷ đồng, Giảm 30.2% so với phiên liền trước. NĐT nước ngoài MUA ròng 248.7 tỷ đồng, tính riêng giao d...</td>\n",
              "    </tr>\n",
              "    <tr>\n",
              "      <th>80</th>\n",
              "      <td>pigbank đã viết: ↑ Lịch sử luôn lặp lại , tháng 10 năm 2003 , index rơi từ đỉnh hơn 570 về 130 rồi bắt đầu phục hồi, sau gần 4 năm, lên đỉnh 1170 điểm , tăng khoảng 900% , và sau đó là downtrend gần 2 năm giảm từ 1170 về 234 tạo đáy rồi cũng hồi phục đi lên tới bây giờ . HNX ra đời sau VN index , thoi 2007 cũng tăng lên hon 470 điểm , rồi rơi về hơn 50 điểm vào cuối năm 2012 , vừa rồi tăng lên...</td>\n",
              "    </tr>\n",
              "    <tr>\n",
              "      <th>81</th>\n",
              "      <td>pigbank đã viết: ↑ Lịch sử luôn lặp lại , tháng 10 năm 2003 , index rơi từ đỉnh hơn 570 về 130 rồi bắt đầu phục hồi, sau gần 4 năm, lên đỉnh 1170 điểm , tăng khoảng 900% , và sau đó là downtrend gần 2 năm giảm từ 1170 về 234 tạo đáy rồi cũng hồi phục đi lên tới bây giờ . HNX ra đời sau VN index , thoi 2007 cũng tăng lên hon 470 điểm , rồi rơi về hơn 50 điểm vào cuối năm 2012 , vừa rồi tăng lên...</td>\n",
              "    </tr>\n",
              "    <tr>\n",
              "      <th>82</th>\n",
              "      <td>pigbank đã viết: ↑ Lịch sử luôn lặp lại , tháng 10 năm 2003 , index rơi từ đỉnh hơn 570 về 130 rồi bắt đầu phục hồi, sau gần 4 năm, lên đỉnh 1170 điểm , tăng khoảng 900% , và sau đó là downtrend gần 2 năm giảm từ 1170 về 234 tạo đáy rồi cũng hồi phục đi lên tới bây giờ . HNX ra đời sau VN index , thoi 2007 cũng tăng lên hon 470 điểm , rồi rơi về hơn 50 điểm vào cuối năm 2012 , vừa rồi tăng lên...</td>\n",
              "    </tr>\n",
              "    <tr>\n",
              "      <th>84</th>\n",
              "      <td>pigbank đã viết: ↑ Lịch sử luôn lặp lại , tháng 10 năm 2003 , index rơi từ đỉnh hơn 570 về 130 rồi bắt đầu phục hồi, sau gần 4 năm, lên đỉnh 1170 điểm , tăng khoảng 900% , và sau đó là downtrend gần 2 năm giảm từ 1170 về 234 tạo đáy rồi cũng hồi phục đi lên tới bây giờ . HNX ra đời sau VN index , thoi 2007 cũng tăng lên hon 470 điểm , rồi rơi về hơn 50 điểm vào cuối năm 2012 , vừa rồi tăng lên...</td>\n",
              "    </tr>\n",
              "    <tr>\n",
              "      <th>87</th>\n",
              "      <td>pigbank đã viết: ↑ Lịch sử luôn lặp lại , tháng 10 năm 2003 , index rơi từ đỉnh hơn 570 về 130 rồi bắt đầu phục hồi, sau gần 4 năm, lên đỉnh 1170 điểm , tăng khoảng 900% , và sau đó là downtrend gần 2 năm giảm từ 1170 về 234 tạo đáy rồi cũng hồi phục đi lên tới bây giờ . HNX ra đời sau VN index , thoi 2007 cũng tăng lên hon 470 điểm , rồi rơi về hơn 50 điểm vào cuối năm 2012 , vừa rồi tăng lên...</td>\n",
              "    </tr>\n",
              "    <tr>\n",
              "      <th>88</th>\n",
              "      <td>Kiendinh2020 đã viết: ↑ Hôm qua bank, hôm nay MSN, NVL, MWG, VND, SSI, ngày mai thì VHM VIC SAB VNM, thứ 5 xoay vòng lại bank, thay thế nhau kéo thì TT còn tăng dài dài . Còn nhóm mid,pen cuối phiên mai lại giảm thôi Xem tất cả VN30 vừa rồi tích lũy 2 phiên vừa qua mới bật mạnh , sau khi đám penny midcap kéo xả , phân phối xong, như vậy rõ ròng tiền ra đâu , vào đâu rồi, cần gì phải đợi 6 thán...</td>\n",
              "    </tr>\n",
              "    <tr>\n",
              "      <th>91</th>\n",
              "      <td>tomriddle1234 đã viết: ↑ Sơ bộ về FPT: Lợi nhuận của FPT đến từ 4 mảng chính: Công nghệ, Viễn thông, Giáo dục và đầu tư. Trong đó mảng Công nghệ chiếm tỷ trọng lợi nhuận lớn nhất và đang rất khả quan nhờ năng lực kỹ thuật cải thiện và nhu cầu tăng vọt trong kỷ nguyên số mới. TA: Sau khi xuất hiện một nến búa ngược vào ngày 22.11.2021, đã xuất hiện ngay một nến xanh thân dài full cây vào ngày 2...</td>\n",
              "    </tr>\n",
              "    <tr>\n",
              "      <th>92</th>\n",
              "      <td>tomriddle1234 đã viết: ↑ Hôm nay tự doanh bán ròng 13 tỷ 1. MSN bán ròng 61,15 tỷ 2. MWG bán ròng 48,89 tỷ 3. VND bán ròng 44,99 tỷ MSN: Tính đến ngày 23.11.2021, Tự doanh mua ròng Giá trị: 211,066 tỷ Giá FIFO: 81,495 Như vậy tính tới thời điểm hiện tại SSI đã không còn khả năng gây bất cứ ảnh hưởng gì tới MSN nữa nhé các bác Xem tất cả Woa, mấy anh đi lệnh lộ liễu qué không qua mắt được bác T...</td>\n",
              "    </tr>\n",
              "    <tr>\n",
              "      <th>93</th>\n",
              "      <td>Hôm nay tự doanh bán ròng 13 tỷ 1. MSN bán ròng 61,15 tỷ 2. MWG bán ròng 48,89 tỷ 3. VND bán ròng 44,99 tỷ MSN: Tính đến ngày 23.11.2021, Tự doanh mua ròng Giá trị: 211,066 tỷ Giá FIFO: 81,495 Như vậy tính tới thời điểm hiện tại SSI đã không còn khả năng gây bất cứ ảnh hưởng gì tới MSN nữa nhé các bác</td>\n",
              "    </tr>\n",
              "    <tr>\n",
              "      <th>97</th>\n",
              "      <td>pigbank đã viết: ↑ Lịch sử luôn lặp lại , tháng 10 năm 2003 , index rơi từ đỉnh hơn 570 về 130 rồi bắt đầu phục hồi, sau gần 4 năm, lên đỉnh 1170 điểm , tăng khoảng 900% , và sau đó là downtrend gần 2 năm giảm từ 1170 về 234 tạo đáy rồi cũng hồi phục đi lên tới bây giờ . HNX ra đời sau VN index , thoi 2007 cũng tăng lên hon 470 điểm , rồi rơi về hơn 50 điểm vào cuối năm 2012 , vừa rồi tăng lên...</td>\n",
              "    </tr>\n",
              "    <tr>\n",
              "      <th>101</th>\n",
              "      <td>pigbank đã viết: ↑ Lịch sử luôn lặp lại , tháng 10 năm 2003 , index rơi từ đỉnh hơn 570 về 130 rồi bắt đầu phục hồi, sau gần 4 năm, lên đỉnh 1170 điểm , tăng khoảng 900% , và sau đó là downtrend gần 2 năm giảm từ 1170 về 234 tạo đáy rồi cũng hồi phục đi lên tới bây giờ . HNX ra đời sau VN index , thoi 2007 cũng tăng lên hon 470 điểm , rồi rơi về hơn 50 điểm vào cuối năm 2012 , vừa rồi tăng lên...</td>\n",
              "    </tr>\n",
              "    <tr>\n",
              "      <th>103</th>\n",
              "      <td>pigbank đã viết: ↑ Lịch sử luôn lặp lại , tháng 10 năm 2003 , index rơi từ đỉnh hơn 570 về 130 rồi bắt đầu phục hồi, sau gần 4 năm, lên đỉnh 1170 điểm , tăng khoảng 900% , và sau đó là downtrend gần 2 năm giảm từ 1170 về 234 tạo đáy rồi cũng hồi phục đi lên tới bây giờ . HNX ra đời sau VN index , thoi 2007 cũng tăng lên hon 470 điểm , rồi rơi về hơn 50 điểm vào cuối năm 2012 , vừa rồi tăng lên...</td>\n",
              "    </tr>\n",
              "    <tr>\n",
              "      <th>105</th>\n",
              "      <td>pigbank đã viết: ↑ Lịch sử luôn lặp lại , tháng 10 năm 2003 , index rơi từ đỉnh hơn 570 về 130 rồi bắt đầu phục hồi, sau gần 4 năm, lên đỉnh 1170 điểm , tăng khoảng 900% , và sau đó là downtrend gần 2 năm giảm từ 1170 về 234 tạo đáy rồi cũng hồi phục đi lên tới bây giờ . HNX ra đời sau VN index , thoi 2007 cũng tăng lên hon 470 điểm , rồi rơi về hơn 50 điểm vào cuối năm 2012 , vừa rồi tăng lên...</td>\n",
              "    </tr>\n",
              "    <tr>\n",
              "      <th>107</th>\n",
              "      <td>pigbank đã viết: ↑ Lịch sử luôn lặp lại , tháng 10 năm 2003 , index rơi từ đỉnh hơn 570 về 130 rồi bắt đầu phục hồi, sau gần 4 năm, lên đỉnh 1170 điểm , tăng khoảng 900% , và sau đó là downtrend gần 2 năm giảm từ 1170 về 234 tạo đáy rồi cũng hồi phục đi lên tới bây giờ . HNX ra đời sau VN index , thoi 2007 cũng tăng lên hon 470 điểm , rồi rơi về hơn 50 điểm vào cuối năm 2012 , vừa rồi tăng lên...</td>\n",
              "    </tr>\n",
              "    <tr>\n",
              "      <th>108</th>\n",
              "      <td>pigbank đã viết: ↑ Lịch sử luôn lặp lại , tháng 10 năm 2003 , index rơi từ đỉnh hơn 570 về 130 rồi bắt đầu phục hồi, sau gần 4 năm, lên đỉnh 1170 điểm , tăng khoảng 900% , và sau đó là downtrend gần 2 năm giảm từ 1170 về 234 tạo đáy rồi cũng hồi phục đi lên tới bây giờ . HNX ra đời sau VN index , thoi 2007 cũng tăng lên hon 470 điểm , rồi rơi về hơn 50 điểm vào cuối năm 2012 , vừa rồi tăng lên...</td>\n",
              "    </tr>\n",
              "    <tr>\n",
              "      <th>109</th>\n",
              "      <td>pigbank đã viết: ↑ Lịch sử luôn lặp lại , tháng 10 năm 2003 , index rơi từ đỉnh hơn 570 về 130 rồi bắt đầu phục hồi, sau gần 4 năm, lên đỉnh 1170 điểm , tăng khoảng 900% , và sau đó là downtrend gần 2 năm giảm từ 1170 về 234 tạo đáy rồi cũng hồi phục đi lên tới bây giờ . HNX ra đời sau VN index , thoi 2007 cũng tăng lên hon 470 điểm , rồi rơi về hơn 50 điểm vào cuối năm 2012 , vừa rồi tăng lên...</td>\n",
              "    </tr>\n",
              "    <tr>\n",
              "      <th>111</th>\n",
              "      <td>pigbank đã viết: ↑ Lịch sử luôn lặp lại , tháng 10 năm 2003 , index rơi từ đỉnh hơn 570 về 130 rồi bắt đầu phục hồi, sau gần 4 năm, lên đỉnh 1170 điểm , tăng khoảng 900% , và sau đó là downtrend gần 2 năm giảm từ 1170 về 234 tạo đáy rồi cũng hồi phục đi lên tới bây giờ . HNX ra đời sau VN index , thoi 2007 cũng tăng lên hon 470 điểm , rồi rơi về hơn 50 điểm vào cuối năm 2012 , vừa rồi tăng lên...</td>\n",
              "    </tr>\n",
              "    <tr>\n",
              "      <th>112</th>\n",
              "      <td>pigbank đã viết: ↑ Lịch sử luôn lặp lại , tháng 10 năm 2003 , index rơi từ đỉnh hơn 570 về 130 rồi bắt đầu phục hồi, sau gần 4 năm, lên đỉnh 1170 điểm , tăng khoảng 900% , và sau đó là downtrend gần 2 năm giảm từ 1170 về 234 tạo đáy rồi cũng hồi phục đi lên tới bây giờ . HNX ra đời sau VN index , thoi 2007 cũng tăng lên hon 470 điểm , rồi rơi về hơn 50 điểm vào cuối năm 2012 , vừa rồi tăng lên...</td>\n",
              "    </tr>\n",
              "    <tr>\n",
              "      <th>113</th>\n",
              "      <td>pigbank đã viết: ↑ Lịch sử luôn lặp lại , tháng 10 năm 2003 , index rơi từ đỉnh hơn 570 về 130 rồi bắt đầu phục hồi, sau gần 4 năm, lên đỉnh 1170 điểm , tăng khoảng 900% , và sau đó là downtrend gần 2 năm giảm từ 1170 về 234 tạo đáy rồi cũng hồi phục đi lên tới bây giờ . HNX ra đời sau VN index , thoi 2007 cũng tăng lên hon 470 điểm , rồi rơi về hơn 50 điểm vào cuối năm 2012 , vừa rồi tăng lên...</td>\n",
              "    </tr>\n",
              "    <tr>\n",
              "      <th>116</th>\n",
              "      <td>pigbank đã viết: ↑ Lịch sử luôn lặp lại , tháng 10 năm 2003 , index rơi từ đỉnh hơn 570 về 130 rồi bắt đầu phục hồi, sau gần 4 năm, lên đỉnh 1170 điểm , tăng khoảng 900% , và sau đó là downtrend gần 2 năm giảm từ 1170 về 234 tạo đáy rồi cũng hồi phục đi lên tới bây giờ . HNX ra đời sau VN index , thoi 2007 cũng tăng lên hon 470 điểm , rồi rơi về hơn 50 điểm vào cuối năm 2012 , vừa rồi tăng lên...</td>\n",
              "    </tr>\n",
              "    <tr>\n",
              "      <th>118</th>\n",
              "      <td>tomriddle1234 đã viết: ↑ Mấy bác xé vé nhảy tàu MSN đừng khóc nhé . Pic này ít chim lợn nhưng toàn các bác tự nhảy tàu không. Xem tất cả Tàu cũ MWG của bác phi còn bon hơn tàu mới MSN đó</td>\n",
              "    </tr>\n",
              "    <tr>\n",
              "      <th>121</th>\n",
              "      <td>pigbank đã viết: ↑ Lịch sử luôn lặp lại , tháng 10 năm 2003 , index rơi từ đỉnh hơn 570 về 130 rồi bắt đầu phục hồi, sau gần 4 năm, lên đỉnh 1170 điểm , tăng khoảng 900% , và sau đó là downtrend gần 2 năm giảm từ 1170 về 234 tạo đáy rồi cũng hồi phục đi lên tới bây giờ . HNX ra đời sau VN index , thoi 2007 cũng tăng lên hon 470 điểm , rồi rơi về hơn 50 điểm vào cuối năm 2012 , vừa rồi tăng lên...</td>\n",
              "    </tr>\n",
              "    <tr>\n",
              "      <th>122</th>\n",
              "      <td>pigbank đã viết: ↑ Lịch sử luôn lặp lại , tháng 10 năm 2003 , index rơi từ đỉnh hơn 570 về 130 rồi bắt đầu phục hồi, sau gần 4 năm, lên đỉnh 1170 điểm , tăng khoảng 900% , và sau đó là downtrend gần 2 năm giảm từ 1170 về 234 tạo đáy rồi cũng hồi phục đi lên tới bây giờ . HNX ra đời sau VN index , thoi 2007 cũng tăng lên hon 470 điểm , rồi rơi về hơn 50 điểm vào cuối năm 2012 , vừa rồi tăng lên...</td>\n",
              "    </tr>\n",
              "    <tr>\n",
              "      <th>123</th>\n",
              "      <td>pigbank đã viết: ↑ Lịch sử luôn lặp lại , tháng 10 năm 2003 , index rơi từ đỉnh hơn 570 về 130 rồi bắt đầu phục hồi, sau gần 4 năm, lên đỉnh 1170 điểm , tăng khoảng 900% , và sau đó là downtrend gần 2 năm giảm từ 1170 về 234 tạo đáy rồi cũng hồi phục đi lên tới bây giờ . HNX ra đời sau VN index , thoi 2007 cũng tăng lên hon 470 điểm , rồi rơi về hơn 50 điểm vào cuối năm 2012 , vừa rồi tăng lên...</td>\n",
              "    </tr>\n",
              "    <tr>\n",
              "      <th>124</th>\n",
              "      <td>pigbank đã viết: ↑ Lịch sử luôn lặp lại , tháng 10 năm 2003 , index rơi từ đỉnh hơn 570 về 130 rồi bắt đầu phục hồi, sau gần 4 năm, lên đỉnh 1170 điểm , tăng khoảng 900% , và sau đó là downtrend gần 2 năm giảm từ 1170 về 234 tạo đáy rồi cũng hồi phục đi lên tới bây giờ . HNX ra đời sau VN index , thoi 2007 cũng tăng lên hon 470 điểm , rồi rơi về hơn 50 điểm vào cuối năm 2012 , vừa rồi tăng lên...</td>\n",
              "    </tr>\n",
              "    <tr>\n",
              "      <th>130</th>\n",
              "      <td>Bảng tin mỗi ngày: 23/11/2021 “Có tâm mới có tầm” CHÂN THÀNH VÀ ĐỈNH CAO Dòng tiền: Kết thúc phiên giao dịch ngày 22/11/2021, chỉ số VNINDEX giảm 0,35% đóng cửa ở mức 1.447,25 điểm. Giá trị giao dịch trên sàn HOSE đạt 36,397 tỷ đồng, giá trị giao dịch toàn thị trường tính cả 3 sàn đạt 45,447.8 tỷ đồng, giảm 19.0% so với phiên liền trước. NĐT nước ngoài MUA ròng 565.4 tỷ đồng Mua ròng các mã: V...</td>\n",
              "    </tr>\n",
              "    <tr>\n",
              "      <th>132</th>\n",
              "      <td>PNJ: Sau 3 tháng thua lỗ liên tiếp, PNJ đã có lãi 120 tỷ đồng trong tháng 10 HVN: Thời buổi khó khăn, Vietnam Airlines mở thêm sàn TMĐT: Phục vụ việc đi chợ đến bán cơm, bánh mì, trà sữa, rượu vang MWG: Tìm động lực tăng trưởng, Thế giới Di động mở bán cả trang sức APG: chào bán 73,15 triệu cổ phiếu, tăng vốn điều lệ lên 1.460 tỷ đồng DIG: Lợi nhuận trước thuế năm 2021 ước đạt 1.200 tỷ đồng, h...</td>\n",
              "    </tr>\n",
              "    <tr>\n",
              "      <th>137</th>\n",
              "      <td>Kingtesla đã viết: ↑ Sắp tung tin định giá mới cho HPG, kiểu như các cty chứng khoán vừa tung tin định giá mới cho MWG thôi. Nhưng ko biết các lái giữ tin cho ngày mai hay ngày kia rồi mới tung. Hoặc là tuần này để hồi kỹ thuật theo thị trường rồi 4h chiều thứ 6 mới tung để tuần sau kéo nhẹ tựa lông hồng haha. Xem tất cả Đợt này e nghĩ đánh lên khi ra thôbg tin sản lượng tháng 11. Ra tháng 10-...</td>\n",
              "    </tr>\n",
              "    <tr>\n",
              "      <th>149</th>\n",
              "      <td>✅Bảng tin mỗi ngày: 22/11/2021 “Có tâm mới có tầm” CHÂN THÀNH VÀ ĐỈNH CAO ✅Dòng tiền: Kết thúc phiên giao dịch ngày 19/11/2021, chỉ số VNINDEX giảm 1,19% đóng cửa ở mức 1.452,35 điểm. -Giá trị giao dịch trên sàn HOSE đạt 44,570 tỷ đồng, giá trị giao dịch toàn thị trường tính cả 3 sàn đạt 56,105.3 tỷ đồng, tăng 31.8% so với phiên liền trước. Đây là mức kỷ lục thanh khoản mới đối với cả sàn HOSE...</td>\n",
              "    </tr>\n",
              "    <tr>\n",
              "      <th>150</th>\n",
              "      <td>InvestorVNstock đã viết: ↑ Cả 2 con Robots đều báo tín hiệu như nhau. Rồi 9/10 chuyên gia trong và ngoài nước mà nhóm em lấy phân tích và ý kiến đã đưa ra nhận định như thế. Chuyên gia và robots báo dòng tiền lớn dòng tiền thông minh sẽ rút khỏi Penny Midcap đã tăng nóng tăng ảo như IDI EVG DAG TNI CEO CII HBC APG AGR LDG HAR HAI HAG TTB HID HCD HHS HQC SCR DRH BCG AMD VHG KLF ROS FLC ART DLG ...</td>\n",
              "    </tr>\n",
              "    <tr>\n",
              "      <th>151</th>\n",
              "      <td>Nước hoa mua ở châu âu thơm hơn mua ở Singapore, mua ở Singapore thơm hơn mua ở VN. Thuốc cũng vậy, đồ điện tử cũng vậy. Chất lượng giảm dần nhưng giá ngang nhau. Nếu bán thì có thể bán các nhãn hiệu gốc để người dân có nhiều lựa chọn mua hàng chất lượng. Việt Nam hình như đang có nhưng ít các cửa hàng bán đồ cho cấp trung bình cộng, là những người có tiền nhưng chưa hiểu biết nhiều, mua đồ đắ...</td>\n",
              "    </tr>\n",
              "    <tr>\n",
              "      <th>154</th>\n",
              "      <td>m99 đã viết: ↑ Bạn suy nghĩ như vậy thì không tồn tại được trên TT đâu. Làm gì có khái niệm \"chắc chắn tăng\" hoặc \"tăng nữa, tăng mãi\". Dài hạn 10-20 năm nó là uptrend nhưng nó đi ziczac, 2 năm tạo đỉnh rồi 2 năm tích luỹ rồi lại lên tiếp chẳng hạn. Trong mỗi 2 năm đó nó cũng zizac theo quý, rồi quý zizac theo tuần.... Còn TT hay cổ phiếu đều có \"lái\", gọi sang là \"tạo lập\". Bạn nghĩ HPG vol 5...</td>\n",
              "    </tr>\n",
              "    <tr>\n",
              "      <th>155</th>\n",
              "      <td>goldmustdie đã viết: ↑ Phiên rũ mạnh ngày cuối tuần đả cho thấy rõ ý đồ lái lẹo cái.Các bác có nhận thấy giống tui không? 1.Đả rủ bỏ phần lớn những trader yếu vía ra khỏi nhóm ngân hàng để nhẹ tàu thuận lợi cho quá trình đánh lên. 2.Đẩy một lượng tiền mặt đủ lớn đứng ngoài cuộc chơi,đây sẽ là nguồn cầu tiềm năng đủ lớn để tạo sóng ngân hàng với hàng tỷ tỷ cổ phiếu.... Nhìn vào biểu đồ của nhóm...</td>\n",
              "    </tr>\n",
              "    <tr>\n",
              "      <th>156</th>\n",
              "      <td>tomriddle1234 đã viết: ↑ Lũy kế đến 19.11.2021, Top 10 MUA RÒNG của tự doanh: 1. MWG - Giá trị 741,907 tỷ - lãi 75,90% 2. KDH - Giá trị 642,437 tỷ - lãi 72,32% 3. FPT - Giá trị 544,937 tỷ - lãi 89,34% 4. CTG - Giá trị 414,952 tỷ - lãi 22,53% 5. TCB - Giá trị 331,299 tỷ- lãi 66,03% 6. STB - Giá trị 328,946 tỷ - lãi 65,09% 7. PNJ - Giá trị 320,945 tỷ - lãi 27,52% 8. VPB - Giá trị: 267,861 tỷ - l...</td>\n",
              "    </tr>\n",
              "    <tr>\n",
              "      <th>158</th>\n",
              "      <td>Lũy kế đến 19.11.2021, Top 10 MUA RÒNG của tự doanh: 1. MWG - Giá trị 741,907 tỷ - lãi 75,90% 2. KDH - Giá trị 642,437 tỷ - lãi 72,32% 3. FPT - Giá trị 544,937 tỷ - lãi 89,34% 4. CTG - Giá trị 414,952 tỷ - lãi 22,53% 5. TCB - Giá trị 331,299 tỷ- lãi 66,03% 6. STB - Giá trị 328,946 tỷ - lãi 65,09% 7. PNJ - Giá trị 320,945 tỷ - lãi 27,52% 8. VPB - Giá trị: 267,861 tỷ - lãi 100,48% 9. MSN - Giá t...</td>\n",
              "    </tr>\n",
              "    <tr>\n",
              "      <th>169</th>\n",
              "      <td>-Cổ đông vàng trắng hò nhau gồng lãi do giá cao su vẫn tiếp tục tăng cao, RTB quán quân trong nhịp tăng này. ✅Bảng tin mỗi ngày: 19/11/2021 “Có tâm mới có tầm” CHÂN THÀNH VÀ ĐỈNH CAO Kết thúc phiên giao dịch ngày 18/11/2021, chỉ số VNINDEX giảm 0,41% đóng cửa ở mức 1469,83 điểm. Giá trị giao dịch trên sàn HOSE đạt 34,747 tỷ đồng, giá trị giao dịch toàn thị trường tính cả 3 sàn đạt 42.569 tỷ đồ...</td>\n",
              "    </tr>\n",
              "    <tr>\n",
              "      <th>173</th>\n",
              "      <td>cobonla2000 đã viết: ↑ Trích: https://www.facebook.com/do.q.chi.1/posts/4158023547634878 HPG là một trong 3 doanh nghiệp mà Chi cho là tốt nhất, yêu thích nhất bên cạnh MWG và FPT. Sau mấy phiên thảm sát nếu mình post định giá của mình về HPG là 58-65 chắc nhận gạch đá kha khá. Tuy nhiên dám đưa ra nhận định ngược số đông lúc này mới là hay Mặc dù giá thép nhiều khả năng trên đỉnh và HPG là cổ...</td>\n",
              "    </tr>\n",
              "    <tr>\n",
              "      <th>174</th>\n",
              "      <td>Trích: https://www.facebook.com/do.q.chi.1/posts/4158023547634878 HPG là một trong 3 doanh nghiệp mà Chi cho là tốt nhất, yêu thích nhất bên cạnh MWG và FPT. Sau mấy phiên thảm sát nếu mình post định giá của mình về HPG là 58-65 chắc nhận gạch đá kha khá. Tuy nhiên dám đưa ra nhận định ngược số đông lúc này mới là hay Mặc dù giá thép nhiều khả năng trên đỉnh và HPG là cổ chu kỳ nhưng Chi vẫn c...</td>\n",
              "    </tr>\n",
              "    <tr>\n",
              "      <th>176</th>\n",
              "      <td>Kubinz đã viết: ↑ Nhiều bạn nick lâu năm mà nói chuyện chán ko tả nổi. Nếu tầm nhìn T+ thì nói về xu hướng là đủ, chứ nói về doanh nghiệp làm gì khi ko đủ hiểu biết. Có vài phép so sánh nhỏ nhỏ để cho mấy bạn thấy HPG đang rẻ thế nào, chỉ tính thời điểm hiện tại. HPG vốn hóa 220k tỷ, lãi 31k tỷ TCB vốn hóa 180k tỷ, lãi 17k tỷ VNM vốn hóa 180k tỷ, lãi 10k tỷ FPT vốn hóa 87k tỷ, lãi 4k tỷ MWG vố...</td>\n",
              "    </tr>\n",
              "    <tr>\n",
              "      <th>184</th>\n",
              "      <td>Đáo hạn phái sinh có biến động gì lớn? Bảng tin mỗi ngày: 18/11/2021 “Có tâm mới có tầm” CHÂN THÀNH VÀ ĐỈNH CAO DÒNG TIỀN:Kết thúc phiên giao dịch ngày 17/11/2021, chỉ số VNINDEX tăng 0,64% đóng cửa ở mức 1.475,85 điểm. Giá trị giao dịch trên sàn HOSE đạt 25,893 tỷ đồng, giá trị giao dịch toàn thị trường tính cả 3 sàn đạt 32,588.1 tỷ đồng, giảm 22.8% so với phiên liền trước. NHÀ ĐẦU TƯ NƯỚC NG...</td>\n",
              "    </tr>\n",
              "    <tr>\n",
              "      <th>185</th>\n",
              "      <td>tqh24 đã viết: ↑ https://ndh.vn/co-phieu/khoi-ngoai-...ng-phien-17-11-vhm-duoc-gom-manh-1304029.html VHM xây nền giống vài cp trong qua khứ mình từng mua như VCB, VIC, MWG. Sau đó đều tăng từ 100-300% trong 1 năm. Mua vứt đó để sang năm. Xem tất cả Chuẩn rồi bác, nhưng thể nào cũng có chim lợn sẽ nói bác là vốn hoá lớn thế sao mà tăng đc cho mà coi</td>\n",
              "    </tr>\n",
              "    <tr>\n",
              "      <th>186</th>\n",
              "      <td>Big_girl_2014 đã viết: ↑ 1. Nay tự doanh bán ròng nhưng tiếp tục mua ròng VHM 12 tỏi 2. Tây lông thì nay chơi điệu slow nhưng cũng tráng miệng 150 tỏi 3. Còn gì để mà đè nữa, đè phát nào cụt phát đó Cùng dự đoán ngày mai nào Xem tất cả https://ndh.vn/co-phieu/khoi-ngoai-...ng-phien-17-11-vhm-duoc-gom-manh-1304029.html VHM xây nền giống vài cp lớn trong qua khứ mình từng mua như VCB, VIC, MWG. ...</td>\n",
              "    </tr>\n",
              "    <tr>\n",
              "      <th>191</th>\n",
              "      <td>✅Bảng tin mỗi ngày: 17/11/2021 “Có tâm mới có tầm” CHÂN THÀNH VÀ ĐỈNH CAO ✅ DÒNG TIỀN: Kết thúc phiên giao dịch ngày 16/11/2021, chỉ số VNINDEX giảm 0,69% đóng cửa ở mức 1.466,45 điểm. Giá trị giao dịch trên sàn HOSE đạt 34,611 tỷ đồng, giá trị giao dịch toàn thị trường tính cả 3 sàn đạt 42,220.4 tỷ đồng, Giảm 0.9% so với phiên liền trước. ✅NHÀ ĐẦU TƯ NƯỚC NGOÀI: Tiếp tục mua ròng tập trung MS...</td>\n",
              "    </tr>\n",
              "    <tr>\n",
              "      <th>201</th>\n",
              "      <td>baothanhthien đã viết: ↑ Với phiên vét hàng cuối giờ hôm qua, bên mua đã thể hiện kỳ vọng ít nhất 4x trong vài ngày nữa. Ghê thặc, chỉ 20 phút từ trần bà con xả về gần tham chiếu nhưng bị hốt sạch và đẩy giá lên lại trần. Cho nên hàng có lái và trong nhịp sóng BDS thì các yếu tố tồn kho, quỹ đất, lợi nhuận tốt chỉ là yếu tố hỗ trợ cho nhịp sóng thôi chứ không phải là yếu tố quyết định tăng hay...</td>\n",
              "    </tr>\n",
              "    <tr>\n",
              "      <th>202</th>\n",
              "      <td>baothanhthien đã viết: ↑ Với phiên vét hàng cuối giờ hôm qua, bên mua đã thể hiện kỳ vọng ít nhất 4x trong vài ngày nữa. Ghê thặc, chỉ 20 phút từ trần bà con xả về gần tham chiếu nhưng bị hốt sạch và đẩy giá lên lại trần. Cho nên hàng có lái và trong nhịp sóng BDS thì các yếu tố tồn kho, quỹ đất, lợi nhuận tốt chỉ là yếu tố hỗ trợ cho nhịp sóng thôi chứ không phải là yếu tố quyết định tăng hay...</td>\n",
              "    </tr>\n",
              "    <tr>\n",
              "      <th>203</th>\n",
              "      <td>Góc nhìn CTCK: Xu hướng tăng của Index chưa chấm dứt nhưng rủi ro tại các cổ phiếu đầu cơ đang tăng cao 16-11-2021 - 00:03 AM | Thị trường chứng khoán BÁO NÓI - 3:02 Chứng khoán Rồng Việt (VDSC) đánh giá nhịp tăng trưởng của nhóm cổ phiếu vừa và nhỏ đang có dấu hiệu chốt lãi, nên các nhà đầu tư cần cẩn trọng với nhóm cổ phiếu này để tránh rủi ro trong ngắn hạn. Lịch chốt quyền nhận cổ tức bằng...</td>\n",
              "    </tr>\n",
              "    <tr>\n",
              "      <th>204</th>\n",
              "      <td>Với phiên vét hàng cuối giờ hôm qua, bên mua đã thể hiện kỳ vọng ít nhất 4x trong vài ngày nữa. Ghê thặc, chỉ 20 phút từ trần bà con xả về gần tham chiếu nhưng bị hốt sạch và đẩy giá lên lại trần. Cho nên hàng có lái và trong nhịp sóng BDS thì các yếu tố tồn kho, quỹ đất, lợi nhuận tốt chỉ là yếu tố hỗ trợ cho nhịp sóng thôi chứ không phải là yếu tố quyết định tăng hay giảm. Nhiều doanh nghiệp...</td>\n",
              "    </tr>\n",
              "    <tr>\n",
              "      <th>210</th>\n",
              "      <td>F0moinhat đã viết: ↑ Dòng tiền khủng, cứ dòng chứng mà múc nhiệt tình sẽ hưởng thành quả. Xem tất cả Hôm nay quá trời các cụ chốt lời lúc 14 h nên vni down xuống thì dòng tiền ở ngoài nhiều chờ cơ hội gom luôn. Mất hàng. Cik nay lại càng nhiều và mai lại vni bay mạnh và dòng chứng lại hưởng lợi. Thị trường chứng khoán (15/11): Hơn 160 cổ phiếu tăng trần, dòng tiền mạnh đẩy VN-Index bật tăng hơ...</td>\n",
              "    </tr>\n",
              "    <tr>\n",
              "      <th>216</th>\n",
              "      <td>tomriddle1234 đã viết: ↑ 295,5k ATC trong đó chỉ có hơn 100k của tây lông khớp lệnh Vậy gần 200k còn lại là của ai đây Tôi xin nhắc lại là 100 tỷ của các anh VCI vẫn nằm im và tin chia cổ tức 2:1 chưa xác định . --- Gộp bài viết, 15/11/2021 lúc 14:54, Bài cũ: 15/11/2021 lúc 14:52 --- Từ từ bác . Tàu chạy nối đuôi nhau là vui nhất đấy . Chứ tàu chạy song song, không vui lắm đâu . Xem tất cả Chắ...</td>\n",
              "    </tr>\n",
              "    <tr>\n",
              "      <th>223</th>\n",
              "      <td>Chờ đợi sự trở lại của cổ phiếu blue-chip Triêu Dương 14/11/2021 – Thị trường đang dần xuất hiện một số tín hiệu cho thấy dòng tiền dường như đang luân chuyển sang nhóm cổ phiếu vốn hóa lớn trong những ngày gần đây. Tín hiệu xuất hiện Hơn ba tháng qua, trong khi nhóm cổ phiếu vốn hóa trung bình (midcap) và vốn hóa nhỏ (penny) liên tục nổi sóng và thiết lập các đỉnh cao mới, nhóm cổ phiếu vốn h...</td>\n",
              "    </tr>\n",
              "    <tr>\n",
              "      <th>224</th>\n",
              "      <td>BigDady1516 đã viết: ↑ Giảm dự trữ bắt buộc + nới Zoom tín dụng Lồi mồm --- Gộp bài viết, 14/11/2021 lúc 18:58, Bài cũ: 14/11/2021 lúc 18:56 --- Quỹ ngoại tự doanh mua mạnh B cả tuần, chốt lãi hàng khác cho nhỏ lẻ --- Gộp bài viết, 14/11/2021 lúc 19:01 --- Ace chú ý vào hàng : FPT, MWG, PNJ, TCB, HDB, STB, VPB, MBB, PLX, NVL ... Xem tất cả - VN 30 ace chọn hàng trong này no đủ Điểm số việc của...</td>\n",
              "    </tr>\n",
              "    <tr>\n",
              "      <th>225</th>\n",
              "      <td>BigDady1516 đã viết: ↑ Giảm dự trữ bắt buộc + nới Zoom tín dụng Lồi mồm --- Gộp bài viết, 14/11/2021 lúc 18:58, Bài cũ: 14/11/2021 lúc 18:56 --- Quỹ ngoại tự doanh mua mạnh B cả tuần, chốt lãi hàng khác cho nhỏ lẻ --- Gộp bài viết, 14/11/2021 lúc 19:01 --- Ace chú ý vào hàng : FPT,MWG,PNJ,TCB,HDB,STB,VPB,MBB ... Xem tất cả Giảm DTBB thì không chắc nhưng nới room thì nhiều khả năng sẽ xem xét t...</td>\n",
              "    </tr>\n",
              "    <tr>\n",
              "      <th>227</th>\n",
              "      <td>Giảm dự trữ bắt buộc + nới Zoom tín dụng Lồi mồm --- Gộp bài viết, 14/11/2021 lúc 18:58, Bài cũ: 14/11/2021 lúc 18:56 --- Quỹ ngoại tự doanh mua mạnh B cả tuần, chốt lãi hàng khác cho nhỏ lẻ --- Gộp bài viết, 14/11/2021 lúc 19:01 --- Ace chú ý vào hàng : FPT,MWG,PNJ,TCB,HDB,STB,VPB,MBB ...</td>\n",
              "    </tr>\n",
              "    <tr>\n",
              "      <th>233</th>\n",
              "      <td>Dungck đã viết: ↑ Đang có 6 phiên tăng, ngày nào cũng xanh thì bán sẽ rớt hàng, liệu có như Abs lúc giá12 loạt xanh hơn tháng, đỉnh 80. Xem tất cả Mô hình ban đầu tăng chài chài không gấp của Abs giống Yeg tăng đều và kinh điển lắm. Như Ric đó 4 lên 50. hôm bữa rớt 16.8 mua lại 16.9 đó bác. hụt vol. T3 về ai cũng tâm lý chốt nên đây cũng là cơ hội để lái gom và đánh luôn. Bác Tính xem quảng cá...</td>\n",
              "    </tr>\n",
              "    <tr>\n",
              "      <th>234</th>\n",
              "      <td>Tinhledt đã viết: ↑ - Sóng Bank vĩ đại đưa VNI lên tầm cao mới 1600 1800 - Sóng Bán lẻ cho Quý 4, lễ hội mua sắm, mua sắm trả thù Danh mục các mã tham khảo - Bank: TCB,HDB, STB, EIB, ACB, CTG... - Bán Lẻ: PNJ, MWG, MSN, VRE, PET, VNM, MCH.. Chúc anh em thành công trên con đường đầu tư. Cheer! ..................................................... Kỳ vọng tăng trưởng kinh tế năm 2022 khả quan, D...</td>\n",
              "    </tr>\n",
              "    <tr>\n",
              "      <th>235</th>\n",
              "      <td>✅Bảng tin mỗi ngày: 15/11/2021 “Có tâm mới có tầm” CHÂN THÀNH VÀ ĐỈNH CAO ✅ DÒNG TIỀN: Kết thúc phiên giao dịch ngày 12/11/2021, chỉ số VNINDEX tăng 0,75% đóng cửa ở mức 1.473,37 điểm, mốc đóng cửa cao nhất từ trước đến nay. Giá trị giao dịch trên sàn HOSE đạt 26,360 tỷ đồng, giá trị giao dịch toàn thị trường tính cả 3 sàn đạt 34,408.4 tỷ đồng, giảm 24.9% so với phiên liền trước. ✅NHÀ ĐẦU TƯ N...</td>\n",
              "    </tr>\n",
              "    <tr>\n",
              "      <th>237</th>\n",
              "      <td>Tinhledt đã viết: ↑ - Sóng Bank vĩ đại đưa VNI lên tầm cao mới 1600 1800 - Sóng Bán lẻ cho Quý 4, lễ hội mua sắm, mua sắm trả thù Danh mục các mã tham khảo - Bank: TCB,HDB, STB, EIB, ACB, CTG... - Bán Lẻ: PNJ, MWG, MSN, VRE, PET, VNM, MCH.. Chúc anh em thành công trên con đường đầu tư. Cheer! ..................................................... Kỳ vọng tăng trưởng kinh tế năm 2022 khả quan, D...</td>\n",
              "    </tr>\n",
              "    <tr>\n",
              "      <th>239</th>\n",
              "      <td>Kingtesla đã viết: ↑ Dạ, em lười nghiên cứu sâu xem HP đang làm gì, em chỉ nghĩ sơ sơ thấy VN muốn tiến lên thành nước phát triển thì cần xây dựng thêm hơn 20 năm nữa, tốc độ tăng liên tục theo GDP thì cũng phải 10-15 năm nữa mới giảm. Còn lại em tin chắc là đầu óc của ban lãnh đạo một tập đoàn trăm nghìn tỉ thì phải hơn em cả trăm lần nên em khỏi suy nghĩ mắc công. Chỉ cần xem HP bán được hàn...</td>\n",
              "    </tr>\n",
              "    <tr>\n",
              "      <th>240</th>\n",
              "      <td>Tinhledt đã viết: ↑ - Sóng Bank vĩ đại đưa VNI lên tầm cao mới 1600 1800 - Sóng Bán lẻ cho Quý 4, lễ hội mua sắm, mua sắm trả thù Danh mục các mã tham khảo - Bank: TCB,HDB, STB, EIB, ACB, CTG... - Bán Lẻ: PNJ, MWG, MSN, VRE, PET, VNM, MCH.. Chúc anh em thành công trên con đường đầu tư. Cheer! ..................................................... Kỳ vọng tăng trưởng kinh tế năm 2022 khả quan, D...</td>\n",
              "    </tr>\n",
              "    <tr>\n",
              "      <th>243</th>\n",
              "      <td>Tinhledt đã viết: ↑ - Sóng Bank vĩ đại đưa VNI lên tầm cao mới 1600 1800 - Sóng Bán lẻ cho Quý 4, lễ hội mua sắm. Danh mục các mã tham khảo - Bank: TCB, STB, EIB, ACB, CTG - Bán Lẻ: MWG, MSN, VRE, PET Chúc anh em thành công trên con đường đầu tư. Cheer! ..................................................... Kỳ vọng tăng trưởng kinh tế năm 2022 khả quan, Dragon Capital đánh giá chứng khoán Việt ...</td>\n",
              "    </tr>\n",
              "    <tr>\n",
              "      <th>247</th>\n",
              "      <td>InvestorVNstock đã viết: ↑ Cuối tuần lại nhận được bảng định giá mới của 8 cty Ck lớn vừa gửi. Chắc dựa vào lượng tiền khổng lồ đổ vào thị trường nên lần này giá các cp trên sàn cuối năm 2021 và 2022 thay đổi chóng mặt luôn. Em xin show định giá của khoảng 40-60 mã trong danh sách trên 500 mã em vừa nhận từ 8 cty ck lớn nơi em mở tk: 1. DIG cuối 2021 là 160, 2022 là 260 2. CII ....60.....100 3...</td>\n",
              "    </tr>\n",
              "    <tr>\n",
              "      <th>248</th>\n",
              "      <td>S18 đã viết: ↑ Mới lập pic lại mà nay thị trường lại phản đòn kinh quá . Cũng phải cảm ơn bác đó hôm trước lập đàn làm lái rũ đc thêm đống nhỏ lẻ xuống sân ga . Xem tất cả Vâng ngon mà, thị trường tăng giảm lọc con ngon thôi em biết ngay thị trường nó lại vả cho cái tội lấy số mà thôi chém gió lấy số nói chung chung không chấp.Người non nghe theo phải chịu chứ hơi đâu mình đi khuyên can chả lợ...</td>\n",
              "    </tr>\n",
              "    <tr>\n",
              "      <th>250</th>\n",
              "      <td>Tự doanh tiếp tục mua ròng trong phiên Vn-Index lại có đỉnh mới ngày 12.11, FLC vẫn tiếp tục góp mặt trong danh sách. Trên sàn HoSE, khối tự doanh công ty chứng khoán tiếp tục mua ròng 160.24 tỷ đồng, với tâm điểm mua là cổ phiếu PNJ và FPT. Trong phiên giao dịch hôm nay, khối tự doanh mua vào 401.68 tỷ đồng và bán ra 241.44 tỷ đồng. Tính chung, khối tự doanh mua ròng 160.24 tỷ đồng. Chiều mua...</td>\n",
              "    </tr>\n",
              "    <tr>\n",
              "      <th>251</th>\n",
              "      <td>VPBankQuan đã viết: ↑ MWG thông báo tái cơ cấu các công ty con và công ty liên kết nhỏ CTCP Đầu tư Thế Giới Di Động (MWG) công bố các hoạt động tái cấu trúc doanh nghiệp như sau: 1. Cổ phần hóa CT TNHH Dịch vụ Lắp đặt - Sửa chữa - Bảo hành Tận Tâm (cụ thể, công ty con cung cấp các dịch vụ hậu mãi cho TGDĐ và ĐMX) và CT TNHH MTV 4K Farm (cụ thể, công ty con làm việc với nông dân ký hợp đồng sản...</td>\n",
              "    </tr>\n",
              "    <tr>\n",
              "      <th>254</th>\n",
              "      <td>tomriddle1234 đã viết: ↑ Lũy kế đến 12.11.2021, Top 10 MUA RÒNG của tự doanh: 1. MWG - Giá trị 743,297 tỷ - lãi 72,11% 2. KDH - Giá trị 634,015 tỷ - lãi 85,83% 3. FPT - Giá trị 484,70 tỷ - lãi 94,70% 4. CTG - Giá trị 410,311 tỷ - lãi 22,15% 5. STB - Giá trị 342,795 tỷ - lãi 66,27% 6. TCB - Giá trị 327,190 tỷ- lãi 66,67% 7. MSN - Giá trị 290,99 tỷ - lãi 69,72% 8. VHM - Giá trị 285,167 tỷ - lãi ...</td>\n",
              "    </tr>\n",
              "    <tr>\n",
              "      <th>255</th>\n",
              "      <td>Lũy kế đến 12.11.2021, Top 10 MUA RÒNG của tự doanh: 1. MWG - Giá trị 743,297 tỷ - lãi 72,11% 2. KDH - Giá trị 634,015 tỷ - lãi 85,83% 3. FPT - Giá trị 484,70 tỷ - lãi 94,70% 4. CTG - Giá trị 410,311 tỷ - lãi 22,15% 5. STB - Giá trị 342,795 tỷ - lãi 66,27% 6. TCB - Giá trị 327,190 tỷ- lãi 66,67% 7. MSN - Giá trị 290,99 tỷ - lãi 69,72% 8. VHM - Giá trị 285,167 tỷ - lãi 20,81% 9. PNJ - Giá trị 2...</td>\n",
              "    </tr>\n",
              "    <tr>\n",
              "      <th>266</th>\n",
              "      <td>Kingtesla đã viết: ↑ Em cũng hóng theo ạ, nhờ các bác chỉ giúp thêm ạ! Em F0 nên em nghĩ là thế này, chính phủ cần tạo điều kiện cho dòng tiền xoay vòng thì mới tạo ra tăng trưởng kinh tế, và phải cứu doanh nghiệp, nếu không thì downh nghiệp chết nhiều thì thu thuế nhà nước cũng giảm. Vậy nếu bơm tiền thì thông qua ngân hàng, ngân hàng qua đó sẽ có lãi. Gói kích thích kinh tế để doanh nghiệp y...</td>\n",
              "    </tr>\n",
              "    <tr>\n",
              "      <th>271</th>\n",
              "      <td>haidang2016 đã viết: ↑ Trong nhóm MWG thì anh chị đầu tư cơ bản và lâu dài cho em hỏi cái, tại sao hiện nay các cổ rác lỗ đậm lại tăng nhiều lần, còn một số cổ trụ cột làm ăn nghiêm túc bài bản và có lợi nhuận ổn thì lại cách xa đỉnh với ạ, em xem p/e thì các mã rác p/e toàn vài chục thậm chí vài trăm thì lợi ích gì khi ndt mua? Xem tất cả Tất cả ở 2 chữ kỳ vọng. Có kỳ vọng cp sẽ lên. Người ta...</td>\n",
              "    </tr>\n",
              "    <tr>\n",
              "      <th>272</th>\n",
              "      <td>haidang2016 đã viết: ↑ Trong nhóm MWG thì anh chị đầu tư cơ bản và lâu dài cho em hỏi cái, tại sao hiện nay các cổ rác lỗ đậm lại tăng nhiều lần, còn một số cổ trụ cột làm ăn nghiêm túc bài bản và có lợi nhuận ổn thì lại cách xa đỉnh với ạ, em xem p/e thì các mã rác p/e toàn vài chục thậm chí vài trăm thì lợi ích gì khi ndt mua? Xem tất cả Em cũng hóng theo ạ, nhờ các bác chỉ giúp thêm ạ! Em F...</td>\n",
              "    </tr>\n",
              "    <tr>\n",
              "      <th>278</th>\n",
              "      <td>avatar3D đã viết: ↑ Những blue như hpg thì chim sáo nổi. Hpg vừa thiên thời, địa lợi, nhân hoà. Giáo tiền cho người giỏi và tham vọng như bác Long là quá chính xác. Các quyết định của bác đều có tầm nhìn và đi đúng xu thế. Gút chóp. Cổ đông fomo các cp khác nên đang bán ra thui. Tranh thủ ghom đoạn này ngon đó. Xem tất cả Ah, ra là bác đang ở đây, nhớ hôm trước lúc bác chim lợn MWG em mới nói ...</td>\n",
              "    </tr>\n",
              "    <tr>\n",
              "      <th>279</th>\n",
              "      <td>✅Bảng tin mỗi ngày: 12/11/2021 “Có tâm mới có tầm” CHÂN THÀNH VÀ ĐỈNH CAO ✅ DÒNG TIỀN: Kết thúc phiên giao dịch ngày 11/11/2021, chỉ số VNINDEX giảm 0,18% đóng cửa ở mức 1.462,35 điểm. Giá trị giao dịch trên sàn HOSE đạt 37,915 tỷ đồng, giá trị giao dịch toàn thị trường tính cả 3 sàn đạt 45,791.0 tỷ đồng, tăng 26.1% so với phiên liền trước. ✅NHÀ ĐẦU TƯ NƯỚC NGOÀI: Đẩy mạnh bán ròng tập trung n...</td>\n",
              "    </tr>\n",
              "    <tr>\n",
              "      <th>280</th>\n",
              "      <td>tomriddle1234 đã viết: ↑ Game MSN có thể nói là game tiền tươi thóc thật lớn nhất VN30 năm 2021 luôn rồi mà bác . Đâu phải tự dưng tôi đem toàn bộ nhà cửa tài sản còn vay mượn thêm vứt vào MSN làm gì nếu không biết là ăn chắc rồi . --- Gộp bài viết, 11/11/2021 lúc 16:35, Bài cũ: 11/11/2021 lúc 16:19 --- Các bác đừng quên MSN năm 2020 đã từng từ 4x lên 9x trong 13 phiên giao dịch sau 41 phiên đ...</td>\n",
              "    </tr>\n",
              "    <tr>\n",
              "      <th>282</th>\n",
              "      <td>Haku đã viết: ↑ Hết giờ thì tin ra Để xem mai các anh đánh đấm thế nào Xem tất cả Game MSN có thể nói là game tiền tươi thóc thật lớn nhất VN30 năm 2021 luôn rồi mà bác . Đâu phải tự dưng tôi đem toàn bộ nhà cửa tài sản còn vay mượn thêm vứt vào MSN làm gì nếu không biết là ăn chắc rồi . --- Gộp bài viết, 11/11/2021 lúc 16:35, Bài cũ: 11/11/2021 lúc 16:19 --- Các bác đừng quên MSN năm 2020 đã ...</td>\n",
              "    </tr>\n",
              "  </tbody>\n",
              "</table>\n",
              "</div>\n",
              "      <button class=\"colab-df-convert\" onclick=\"convertToInteractive('df-cde06959-34d2-49f2-8333-a8cffc5bcc86')\"\n",
              "              title=\"Convert this dataframe to an interactive table.\"\n",
              "              style=\"display:none;\">\n",
              "        \n",
              "  <svg xmlns=\"http://www.w3.org/2000/svg\" height=\"24px\"viewBox=\"0 0 24 24\"\n",
              "       width=\"24px\">\n",
              "    <path d=\"M0 0h24v24H0V0z\" fill=\"none\"/>\n",
              "    <path d=\"M18.56 5.44l.94 2.06.94-2.06 2.06-.94-2.06-.94-.94-2.06-.94 2.06-2.06.94zm-11 1L8.5 8.5l.94-2.06 2.06-.94-2.06-.94L8.5 2.5l-.94 2.06-2.06.94zm10 10l.94 2.06.94-2.06 2.06-.94-2.06-.94-.94-2.06-.94 2.06-2.06.94z\"/><path d=\"M17.41 7.96l-1.37-1.37c-.4-.4-.92-.59-1.43-.59-.52 0-1.04.2-1.43.59L10.3 9.45l-7.72 7.72c-.78.78-.78 2.05 0 2.83L4 21.41c.39.39.9.59 1.41.59.51 0 1.02-.2 1.41-.59l7.78-7.78 2.81-2.81c.8-.78.8-2.07 0-2.86zM5.41 20L4 18.59l7.72-7.72 1.47 1.35L5.41 20z\"/>\n",
              "  </svg>\n",
              "      </button>\n",
              "      \n",
              "  <style>\n",
              "    .colab-df-container {\n",
              "      display:flex;\n",
              "      flex-wrap:wrap;\n",
              "      gap: 12px;\n",
              "    }\n",
              "\n",
              "    .colab-df-convert {\n",
              "      background-color: #E8F0FE;\n",
              "      border: none;\n",
              "      border-radius: 50%;\n",
              "      cursor: pointer;\n",
              "      display: none;\n",
              "      fill: #1967D2;\n",
              "      height: 32px;\n",
              "      padding: 0 0 0 0;\n",
              "      width: 32px;\n",
              "    }\n",
              "\n",
              "    .colab-df-convert:hover {\n",
              "      background-color: #E2EBFA;\n",
              "      box-shadow: 0px 1px 2px rgba(60, 64, 67, 0.3), 0px 1px 3px 1px rgba(60, 64, 67, 0.15);\n",
              "      fill: #174EA6;\n",
              "    }\n",
              "\n",
              "    [theme=dark] .colab-df-convert {\n",
              "      background-color: #3B4455;\n",
              "      fill: #D2E3FC;\n",
              "    }\n",
              "\n",
              "    [theme=dark] .colab-df-convert:hover {\n",
              "      background-color: #434B5C;\n",
              "      box-shadow: 0px 1px 3px 1px rgba(0, 0, 0, 0.15);\n",
              "      filter: drop-shadow(0px 1px 2px rgba(0, 0, 0, 0.3));\n",
              "      fill: #FFFFFF;\n",
              "    }\n",
              "  </style>\n",
              "\n",
              "      <script>\n",
              "        const buttonEl =\n",
              "          document.querySelector('#df-cde06959-34d2-49f2-8333-a8cffc5bcc86 button.colab-df-convert');\n",
              "        buttonEl.style.display =\n",
              "          google.colab.kernel.accessAllowed ? 'block' : 'none';\n",
              "\n",
              "        async function convertToInteractive(key) {\n",
              "          const element = document.querySelector('#df-cde06959-34d2-49f2-8333-a8cffc5bcc86');\n",
              "          const dataTable =\n",
              "            await google.colab.kernel.invokeFunction('convertToInteractive',\n",
              "                                                     [key], {});\n",
              "          if (!dataTable) return;\n",
              "\n",
              "          const docLinkHtml = 'Like what you see? Visit the ' +\n",
              "            '<a target=\"_blank\" href=https://colab.research.google.com/notebooks/data_table.ipynb>data table notebook</a>'\n",
              "            + ' to learn more about interactive tables.';\n",
              "          element.innerHTML = '';\n",
              "          dataTable['output_type'] = 'display_data';\n",
              "          await google.colab.output.renderOutput(dataTable, element);\n",
              "          const docLink = document.createElement('div');\n",
              "          docLink.innerHTML = docLinkHtml;\n",
              "          element.appendChild(docLink);\n",
              "        }\n",
              "      </script>\n",
              "    </div>\n",
              "  </div>\n",
              "  "
            ],
            "text/plain": [
              "                                                                                                                                                                                                                                                                                                                                                                                                     originalContent\n",
              "0    1) CTG: Khối ngoại mua ròng CTG trong 11 phiên liên tục, sở hữu trên 25% vốn VietinBank 2) REE: 3 dự án điện gió là động lực tăng trưởng lợi nhuận của REE năm 2022, kỳ vọng dự án M&E nhà ga T3 Tân Sơn Nhất và sân bay Long Thành 3) MWG: Blue Sport; Xuất hiện hình ảnh chuỗi bán đồ thể thao của Thế Giới Di Động, có đủ các thương hiệu như Nike, Adidas, Puma,... 4) MML/VSN: Anco chuyển nhượng 24,9%...\n",
              "1    Bảng tin mỗi ngày: 30/11/2021 “Có tâm mới có tầm” CHÂN THÀNH VÀ ĐỈNH CAO Dòng tiền: Kết thúc phiên giao dịch ngày 29/11/2021, chỉ số VNINDEX giảm 0,55% đóng cửa ở mức 1.484,84 điểm. Giá trị giao dịch trên sàn HOSE đạt 31.355 tỷ đồng, giá trị giao dịch toàn thị trường tính cả 3 sàn đạt 38.596 tỷ đồng, giảm 8% so với phiên liền trước. NĐT nước ngoài BÁN ròng 539.9 tỷ đồng, tính riêng giao dịch k...\n",
              "5    Bảng tin mỗi ngày: 29/11/2021 “Có tâm mới có tầm” CHÂN THÀNH VÀ ĐỈNH CAO Dòng tiền: Kết thúc phiên giao dịch ngày 26/11/2021, chỉ số VNINDEX giảm 0,52% đóng cửa ở mức 1,493,03 điểm. Giá trị giao dịch trên sàn HOSE đạt 35,073 tỷ đồng, giá trị giao dịch toàn thị trường tính cả 3 sàn đạt 41,966.0 tỷ đồng, Tăng 12.6% so với phiên liền trước. NĐT nước ngoài BÁN ròng 2106.6 tỷ đồng, tính riêng giao ...\n",
              "8    Chủ nhật, 28/11/2021, 08:00 (GMT+7) Cá nhân trong nước mua ròng tuần thứ 4 liên tiếp, gom mạnh VPB và HPG Thị trường chứng khoán biến động tích cực trong tuần từ 22-26/11. Cụ thể, VN-Index đóng cửa phiên giao dịch cuối tuần ở mức 1.493,03 điểm, tương ứng tăng 40,68 điểm (2,8%) so với tuần trước đó. HNX-Index cũng tăng 4,66 điểm (1%) lên 458,63 điểm. UPCoM-Index tăng 1,1 điểm (1%) lên 114,34 đi...\n",
              "9    BID: Dự kiến phát hành tối đa 1,03 tỷ cổ phiếu để trả cổ tức, tỷ lệ 25,7% TTF: Được chấp thuận phát hành 100 triệu cổ phiếu để chào bán riêng lẻ và hoán đổi nợ BCM: Dragon Capital khuyên thoái vốn ở một số công ty con SSI: Em trai Chủ tịch Nguyễn Duy Hưng và công ty liên quan trao tay gần 2,5 triệu cổ phiếu Nới lỏng giãn cách, nhiều doanh nghiệp công bố kết quả kinh doanh tháng 10 khả quan: MW...\n",
              "10   pigbank đã viết: ↑ Lịch sử luôn lặp lại , tháng 10 năm 2003 , index rơi từ đỉnh hơn 570 về 130 rồi bắt đầu phục hồi, sau gần 4 năm, lên đỉnh 1170 điểm , tăng khoảng 900% , và sau đó là downtrend gần 2 năm giảm từ 1170 về 234 tạo đáy rồi cũng hồi phục đi lên tới bây giờ . HNX ra đời sau VN index , thoi 2007 cũng tăng lên hon 470 điểm , rồi rơi về hơn 50 điểm vào cuối năm 2012 , vừa rồi tăng lên...\n",
              "20   tomriddle1234 đã viết: ↑ Lũy kế đến 26.11.2021, Top 10 MUA RÒNG của tự doanh: 1. KDH - Giá trị 816,270 tỷ - lãi 74,01% 2. MWG - Giá trị 665,319 tỷ - lãi 79,07% 3. FPT - Giá trị 475,112 tỷ - lãi 96,49% 4. CTG - Giá trị 435,376 tỷ - lãi 28,13% 5. VPB - Giá trị: 363,567 tỷ - lãi 117,09% 6. PNJ - Giá trị 344,977 tỷ - lãi 26,52% 7. VIC - Giá trị 343,765 tỷ - lãi 2,41% 8. TCB - Giá trị 338,928 tỷ- l...\n",
              "21   tomriddle1234 đã viết: ↑ Lũy kế đến 26.11.2021, Top 10 MUA RÒNG của tự doanh: 1. KDH - Giá trị 816,270 tỷ - lãi 74,01% 2. MWG - Giá trị 665,319 tỷ - lãi 79,07% 3. FPT - Giá trị 475,112 tỷ - lãi 96,49% 4. CTG - Giá trị 435,376 tỷ - lãi 28,13% 5. VPB - Giá trị: 363,567 tỷ - lãi 117,09% 6. PNJ - Giá trị 344,977 tỷ - lãi 26,52% 7. VIC - Giá trị 343,765 tỷ - lãi 2,41% 8. TCB - Giá trị 338,928 tỷ- l...\n",
              "22   Lũy kế đến 26.11.2021, Top 10 MUA RÒNG của tự doanh: 1. KDH - Giá trị 816,270 tỷ - lãi 74,01% 2. MWG - Giá trị 665,319 tỷ - lãi 79,07% 3. FPT - Giá trị 475,112 tỷ - lãi 96,49% 4. CTG - Giá trị 435,376 tỷ - lãi 28,13% 5. VPB - Giá trị: 363,567 tỷ - lãi 117,09% 6. PNJ - Giá trị 344,977 tỷ - lãi 26,52% 7. VIC - Giá trị 343,765 tỷ - lãi 2,41% 8. TCB - Giá trị 338,928 tỷ- lãi 71,43% 9. VHM - Giá tr...\n",
              "28   phamkhachoivps đã viết: ↑ Bảng tin mỗi ngày: 25/11/2021 “Có tâm mới có tầm” CHÂN THÀNH VÀ ĐỈNH CAO Dòng tiền: Kết thúc phiên giao dịch ngày 24/11/2021, chỉ số VNINDEX tăng 1.72% đóng cửa ở mức 1,488 điểm. Giá trị giao dịch trên sàn HOSE đạt 35.674 tỷ đồng, giá trị giao dịch toàn thị trường tính cả 3 sàn đạt 42.190 tỷ đồng, tăng 33% so với phiên liền trước. NHÀ ĐẦU TƯ NƯỚC NGOÀI: Bán ròng tập t...\n",
              "29                                                                    BigDady1516 đã viết: ↑ Giảm dự trữ bắt buộc + nới Zoom tín dụng Lồi mồm --- Gộp bài viết, 14/11/2021, Bài cũ: 14/11/2021 --- Quỹ ngoại tự doanh mua mạnh B cả tuần, chốt lãi hàng khác cho nhỏ lẻ --- Gộp bài viết, 14/11/2021 --- Ace chú ý vào hàng : FPT,MWG,PNJ,TCB,HDB,STB,VPB,MBB ... Xem tất cả FPT, MWG đã xanh Mua cả PNJ, DGW nhé ae\n",
              "31   tomriddle1234 đã viết: ↑ Hôm nay tự doanh mua ròng 200 tỷ 1. VHM mua ròng 89,93 tỷ 2. VIC mua ròng 59,46 tỷ 3. MSN mua ròng 55,72 tỷ .... FPT bán ròng 39,18 tỷ Các bác nào quen với cách đánh của SSI rồi thì cũng biết các anh nổi tiếng là ăn ly ăn lines . Nên việc mua đi bán lại vài chục tỷ đối với các anh cũng chẳng phải việc to tát gì . FPT: Tính đến ngày 25.11.2021, Tự doanh mua ròng Giá trị...\n",
              "34   tomriddle1234 đã viết: ↑ Bác có thấy tàu nào tôi lái mà chưa về ga chưa . Phải nói để các bác 10x biết vị thế của mình yếu hơn các bác 9x và CFPT2105 giá 3.5x thì yếu hơn hẳn mấy bác 2.8x - 3.1x rồi. Chứ lúc có chuyện mà mấy bác toa SUPER VIP thì cứ hihi haha thì sẽ cảm thấy khó chịu thật sự nếu không hiểu vị thế của mình. Xem tất cả Em theo bác mấy tàu rồi nên hiểu mà. Nhớ lần đầu theo bác MW...\n",
              "38                                                                                                                YourMomAHoe đã viết: ↑ Haha tự nhiên thấy FPT tăng, vô xem thì ra là do bác @tomriddle1234 đẩy. Chung tàu với bác MWG, ko chơi MSN vì quan điểm cá nhân, nhưng chung tàu FPT với bác tiếp rồi. FPT mà còn ai chim lợn thì xác định tâm cmn thần bác nhỉ. Xem tất cả Fpt mà cũng có chim lợn à bác?\n",
              "39                                                                                                                                                                                 Haha tự nhiên thấy FPT tăng, vô xem thì ra là do bác @tomriddle1234 đẩy. Chung tàu với bác MWG, ko chơi MSN vì quan điểm cá nhân, nhưng chung tàu FPT với bác tiếp rồi. FPT mà còn ai chim lợn thì xác định tâm cmn thần bác nhỉ.\n",
              "44   thachngo đã viết: ↑ Lần trước ông này hô 1k5 thì lên tới 1k2. Lần này ông hô 2k5, dùng theo quy tắc tam suất thì lên được 2k. Hị hị Xem tất cả Quí 4/2020 hô lên 1800 nhé cụ. Thứ sáu, 18/12/2020, 10:57 (GMT+7) PYN Elite Fund: VN-Index đạt 1.800 điểm là con số khả thi Theo báo cáo nhà đầu tư quý IV, PYN Elite đã giải đáp nhiều vấn đề liên quan đến đánh giá thị trường chứng khoán Việt Nam và hệ t...\n",
              "45   pigbank đã viết: ↑ Lịch sử luôn lặp lại , tháng 10 năm 2003 , index rơi từ đỉnh hơn 570 về 130 rồi bắt đầu phục hồi, sau gần 4 năm, lên đỉnh 1170 điểm , tăng khoảng 900% , và sau đó là downtrend gần 2 năm giảm từ 1170 về 234 tạo đáy rồi cũng hồi phục đi lên tới bây giờ . HNX ra đời sau VN index , thoi 2007 cũng tăng lên hon 470 điểm , rồi rơi về hơn 50 điểm vào cuối năm 2012 , vừa rồi tăng lên...\n",
              "46   Bảng tin mỗi ngày: 25/11/2021 “Có tâm mới có tầm” CHÂN THÀNH VÀ ĐỈNH CAO Dòng tiền: Kết thúc phiên giao dịch ngày 24/11/2021, chỉ số VNINDEX tăng 1.72% đóng cửa ở mức 1,488 điểm. Giá trị giao dịch trên sàn HOSE đạt 35.674 tỷ đồng, giá trị giao dịch toàn thị trường tính cả 3 sàn đạt 42.190 tỷ đồng, tăng 33% so với phiên liền trước. NHÀ ĐẦU TƯ NƯỚC NGOÀI: Bán ròng tập trung VPB, VCI, HPG NĐT nướ...\n",
              "47   Levanlam đã viết: ↑ Trong phiên giao dịch hôm nay, khối tự doanh mua vào 487.41 tỷ đồng và bán ra 637.87 tỷ đồng. Tính chung, khối tự doanh bán ròng 150.46 tỷ đồng. Chiều bán ra, khối tự doanh tập trung bán ròng cổ phiếu STB với giá trị đạt 62,9 tỷ đồng. Xếp tiếp theo lần lượt là các cổ phiếu VND (41,9 tỷ đồng), MSN (30,4 tỷ đồng), HPG (29,9 tỷ đồng), FPT (27,6 tỷ đồng). Ngoài ra, các cổ phiếu...\n",
              "48   maker đã viết: ↑ Thật ra, tín hiệu mua đã có rõ ràng. Tuy nhiện hiện nó đang gặp đỉnh cũ gần nhất nên có thể lình xình để break qua, với lực mua như hôm nay thì khả năng break lên đến 80%, nên nếu mai chốt phiên trên và volume ổn thì đích đến khoảng 52 nhé bạn --- Gộp bài viết, 24/11/2021 lúc 20:29, Bài cũ: 24/11/2021 lúc 20:25 --- Bất ngờ nhất hôm nay là cổ phiếu ngành ngân hàng vẫn đang là đ...\n",
              "49   Để tạo tâm lý chiến tốt thì mai nhóm ngân hàng giữ để tiền lại chạy ngược lại các dòng còn lại===>> TT sẽ ổn định, thanh khoản, GTGD vẫn tăng. Ngược lại mai nhóm ngân hàng mà rung sẽ tạo ảm giác nhóm trụ mà rung VNI lủng và trong khi đó các nhóm còn lại phục hồi chưa đủ mạnh===>>> Áp lực bán tăng mạnh, VNI gặp khó khăn. Hôm nay VNI kéo hơi quá đà. cuchuoi_ngonthiet đã viết: ↑ Đúng như dự báo, ...\n",
              "50   Đúng như dự báo, kẹp đâu kích đỏ để giải phóng. Hô hào xong, phiên chiều nay nhóm VN30, ngân hàng up mạnh là bán cật lực. Trong phiên giao dịch hôm nay, khối tự doanh mua vào 487.41 tỷ đồng và bán ra 637.87 tỷ đồng. Tính chung, khối tự doanh bán ròng 150.46 tỷ đồng. Chiều bán ra, khối tự doanh tập trung bán ròng cổ phiếu STB với giá trị đạt 62,9 tỷ đồng. Xếp tiếp theo lần lượt là các cổ phiếu ...\n",
              "51   pigbank đã viết: ↑ Lịch sử luôn lặp lại , tháng 10 năm 2003 , index rơi từ đỉnh hơn 570 về 130 rồi bắt đầu phục hồi, sau gần 4 năm, lên đỉnh 1170 điểm , tăng khoảng 900% , và sau đó là downtrend gần 2 năm giảm từ 1170 về 234 tạo đáy rồi cũng hồi phục đi lên tới bây giờ . HNX ra đời sau VN index , thoi 2007 cũng tăng lên hon 470 điểm , rồi rơi về hơn 50 điểm vào cuối năm 2012 , vừa rồi tăng lên...\n",
              "66   pigbank đã viết: ↑ Lịch sử luôn lặp lại , tháng 10 năm 2003 , index rơi từ đỉnh hơn 570 về 130 rồi bắt đầu phục hồi, sau gần 4 năm, lên đỉnh 1170 điểm , tăng khoảng 900% , và sau đó là downtrend gần 2 năm giảm từ 1170 về 234 tạo đáy rồi cũng hồi phục đi lên tới bây giờ . HNX ra đời sau VN index , thoi 2007 cũng tăng lên hon 470 điểm , rồi rơi về hơn 50 điểm vào cuối năm 2012 , vừa rồi tăng lên...\n",
              "67                                                 chenyouxing đã viết: ↑ mình cũng đồng tình với quan điểm là hoa sen + nam kim đang gặp khó, và giá cp của họ cũng tăng quá nhiều rồi, lịch sử lãnh đạo của họ cũng có 1 truyền thống ... với cổ đông nữa. Xem tất cả Hoa Sen còn mảng siêu thị vật liệu xây dựng sẽ phát triển lớn mạnh như mwg chứ ko thuần tuý sx và kd tôn mạ dù core này vẫn đang sinh LN tốt\n",
              "73   SuSuCaRot đã viết: ↑ Mặc dù chưa có một thông tin cụ thể hơn nào được nêu ra nhưng việc Aeon Việt Nam một khi đạt được các điều kiện đủ để niêm yết thì chắc chắn đây sẽ là một thương vụ chào sàn \"bom tấn\" khi mà Aeon hiện đã trở thành một trong những tay chơi hàng đầu trong cả 2 phân khúc vận hành trung tâm thương mại cũng như bán lẻ. Cả 2 phân khúc này đều là những ngành nhiều tiềm năng nhưng...\n",
              "75   Bảng tin mỗi ngày: 24/11/2021 “Có tâm mới có tầm” CHÂN THÀNH VÀ ĐỈNH CAO Dòng tiền: Kết thúc phiên giao dịch ngày 23/11/2021, chỉ số VNINDEX tăng 1,13% đóng cửa ở mức 1,463,63 điểm. Giá trị giao dịch trên sàn HOSE đạt 25,994 tỷ đồng, giá trị giao dịch toàn thị trường tính cả 3 sàn đạt 31,733.6 tỷ đồng, Giảm 30.2% so với phiên liền trước. NĐT nước ngoài MUA ròng 248.7 tỷ đồng, tính riêng giao d...\n",
              "80   pigbank đã viết: ↑ Lịch sử luôn lặp lại , tháng 10 năm 2003 , index rơi từ đỉnh hơn 570 về 130 rồi bắt đầu phục hồi, sau gần 4 năm, lên đỉnh 1170 điểm , tăng khoảng 900% , và sau đó là downtrend gần 2 năm giảm từ 1170 về 234 tạo đáy rồi cũng hồi phục đi lên tới bây giờ . HNX ra đời sau VN index , thoi 2007 cũng tăng lên hon 470 điểm , rồi rơi về hơn 50 điểm vào cuối năm 2012 , vừa rồi tăng lên...\n",
              "81   pigbank đã viết: ↑ Lịch sử luôn lặp lại , tháng 10 năm 2003 , index rơi từ đỉnh hơn 570 về 130 rồi bắt đầu phục hồi, sau gần 4 năm, lên đỉnh 1170 điểm , tăng khoảng 900% , và sau đó là downtrend gần 2 năm giảm từ 1170 về 234 tạo đáy rồi cũng hồi phục đi lên tới bây giờ . HNX ra đời sau VN index , thoi 2007 cũng tăng lên hon 470 điểm , rồi rơi về hơn 50 điểm vào cuối năm 2012 , vừa rồi tăng lên...\n",
              "82   pigbank đã viết: ↑ Lịch sử luôn lặp lại , tháng 10 năm 2003 , index rơi từ đỉnh hơn 570 về 130 rồi bắt đầu phục hồi, sau gần 4 năm, lên đỉnh 1170 điểm , tăng khoảng 900% , và sau đó là downtrend gần 2 năm giảm từ 1170 về 234 tạo đáy rồi cũng hồi phục đi lên tới bây giờ . HNX ra đời sau VN index , thoi 2007 cũng tăng lên hon 470 điểm , rồi rơi về hơn 50 điểm vào cuối năm 2012 , vừa rồi tăng lên...\n",
              "84   pigbank đã viết: ↑ Lịch sử luôn lặp lại , tháng 10 năm 2003 , index rơi từ đỉnh hơn 570 về 130 rồi bắt đầu phục hồi, sau gần 4 năm, lên đỉnh 1170 điểm , tăng khoảng 900% , và sau đó là downtrend gần 2 năm giảm từ 1170 về 234 tạo đáy rồi cũng hồi phục đi lên tới bây giờ . HNX ra đời sau VN index , thoi 2007 cũng tăng lên hon 470 điểm , rồi rơi về hơn 50 điểm vào cuối năm 2012 , vừa rồi tăng lên...\n",
              "87   pigbank đã viết: ↑ Lịch sử luôn lặp lại , tháng 10 năm 2003 , index rơi từ đỉnh hơn 570 về 130 rồi bắt đầu phục hồi, sau gần 4 năm, lên đỉnh 1170 điểm , tăng khoảng 900% , và sau đó là downtrend gần 2 năm giảm từ 1170 về 234 tạo đáy rồi cũng hồi phục đi lên tới bây giờ . HNX ra đời sau VN index , thoi 2007 cũng tăng lên hon 470 điểm , rồi rơi về hơn 50 điểm vào cuối năm 2012 , vừa rồi tăng lên...\n",
              "88   Kiendinh2020 đã viết: ↑ Hôm qua bank, hôm nay MSN, NVL, MWG, VND, SSI, ngày mai thì VHM VIC SAB VNM, thứ 5 xoay vòng lại bank, thay thế nhau kéo thì TT còn tăng dài dài . Còn nhóm mid,pen cuối phiên mai lại giảm thôi Xem tất cả VN30 vừa rồi tích lũy 2 phiên vừa qua mới bật mạnh , sau khi đám penny midcap kéo xả , phân phối xong, như vậy rõ ròng tiền ra đâu , vào đâu rồi, cần gì phải đợi 6 thán...\n",
              "91   tomriddle1234 đã viết: ↑ Sơ bộ về FPT: Lợi nhuận của FPT đến từ 4 mảng chính: Công nghệ, Viễn thông, Giáo dục và đầu tư. Trong đó mảng Công nghệ chiếm tỷ trọng lợi nhuận lớn nhất và đang rất khả quan nhờ năng lực kỹ thuật cải thiện và nhu cầu tăng vọt trong kỷ nguyên số mới. TA: Sau khi xuất hiện một nến búa ngược vào ngày 22.11.2021, đã xuất hiện ngay một nến xanh thân dài full cây vào ngày 2...\n",
              "92   tomriddle1234 đã viết: ↑ Hôm nay tự doanh bán ròng 13 tỷ 1. MSN bán ròng 61,15 tỷ 2. MWG bán ròng 48,89 tỷ 3. VND bán ròng 44,99 tỷ MSN: Tính đến ngày 23.11.2021, Tự doanh mua ròng Giá trị: 211,066 tỷ Giá FIFO: 81,495 Như vậy tính tới thời điểm hiện tại SSI đã không còn khả năng gây bất cứ ảnh hưởng gì tới MSN nữa nhé các bác Xem tất cả Woa, mấy anh đi lệnh lộ liễu qué không qua mắt được bác T...\n",
              "93                                                                                                    Hôm nay tự doanh bán ròng 13 tỷ 1. MSN bán ròng 61,15 tỷ 2. MWG bán ròng 48,89 tỷ 3. VND bán ròng 44,99 tỷ MSN: Tính đến ngày 23.11.2021, Tự doanh mua ròng Giá trị: 211,066 tỷ Giá FIFO: 81,495 Như vậy tính tới thời điểm hiện tại SSI đã không còn khả năng gây bất cứ ảnh hưởng gì tới MSN nữa nhé các bác\n",
              "97   pigbank đã viết: ↑ Lịch sử luôn lặp lại , tháng 10 năm 2003 , index rơi từ đỉnh hơn 570 về 130 rồi bắt đầu phục hồi, sau gần 4 năm, lên đỉnh 1170 điểm , tăng khoảng 900% , và sau đó là downtrend gần 2 năm giảm từ 1170 về 234 tạo đáy rồi cũng hồi phục đi lên tới bây giờ . HNX ra đời sau VN index , thoi 2007 cũng tăng lên hon 470 điểm , rồi rơi về hơn 50 điểm vào cuối năm 2012 , vừa rồi tăng lên...\n",
              "101  pigbank đã viết: ↑ Lịch sử luôn lặp lại , tháng 10 năm 2003 , index rơi từ đỉnh hơn 570 về 130 rồi bắt đầu phục hồi, sau gần 4 năm, lên đỉnh 1170 điểm , tăng khoảng 900% , và sau đó là downtrend gần 2 năm giảm từ 1170 về 234 tạo đáy rồi cũng hồi phục đi lên tới bây giờ . HNX ra đời sau VN index , thoi 2007 cũng tăng lên hon 470 điểm , rồi rơi về hơn 50 điểm vào cuối năm 2012 , vừa rồi tăng lên...\n",
              "103  pigbank đã viết: ↑ Lịch sử luôn lặp lại , tháng 10 năm 2003 , index rơi từ đỉnh hơn 570 về 130 rồi bắt đầu phục hồi, sau gần 4 năm, lên đỉnh 1170 điểm , tăng khoảng 900% , và sau đó là downtrend gần 2 năm giảm từ 1170 về 234 tạo đáy rồi cũng hồi phục đi lên tới bây giờ . HNX ra đời sau VN index , thoi 2007 cũng tăng lên hon 470 điểm , rồi rơi về hơn 50 điểm vào cuối năm 2012 , vừa rồi tăng lên...\n",
              "105  pigbank đã viết: ↑ Lịch sử luôn lặp lại , tháng 10 năm 2003 , index rơi từ đỉnh hơn 570 về 130 rồi bắt đầu phục hồi, sau gần 4 năm, lên đỉnh 1170 điểm , tăng khoảng 900% , và sau đó là downtrend gần 2 năm giảm từ 1170 về 234 tạo đáy rồi cũng hồi phục đi lên tới bây giờ . HNX ra đời sau VN index , thoi 2007 cũng tăng lên hon 470 điểm , rồi rơi về hơn 50 điểm vào cuối năm 2012 , vừa rồi tăng lên...\n",
              "107  pigbank đã viết: ↑ Lịch sử luôn lặp lại , tháng 10 năm 2003 , index rơi từ đỉnh hơn 570 về 130 rồi bắt đầu phục hồi, sau gần 4 năm, lên đỉnh 1170 điểm , tăng khoảng 900% , và sau đó là downtrend gần 2 năm giảm từ 1170 về 234 tạo đáy rồi cũng hồi phục đi lên tới bây giờ . HNX ra đời sau VN index , thoi 2007 cũng tăng lên hon 470 điểm , rồi rơi về hơn 50 điểm vào cuối năm 2012 , vừa rồi tăng lên...\n",
              "108  pigbank đã viết: ↑ Lịch sử luôn lặp lại , tháng 10 năm 2003 , index rơi từ đỉnh hơn 570 về 130 rồi bắt đầu phục hồi, sau gần 4 năm, lên đỉnh 1170 điểm , tăng khoảng 900% , và sau đó là downtrend gần 2 năm giảm từ 1170 về 234 tạo đáy rồi cũng hồi phục đi lên tới bây giờ . HNX ra đời sau VN index , thoi 2007 cũng tăng lên hon 470 điểm , rồi rơi về hơn 50 điểm vào cuối năm 2012 , vừa rồi tăng lên...\n",
              "109  pigbank đã viết: ↑ Lịch sử luôn lặp lại , tháng 10 năm 2003 , index rơi từ đỉnh hơn 570 về 130 rồi bắt đầu phục hồi, sau gần 4 năm, lên đỉnh 1170 điểm , tăng khoảng 900% , và sau đó là downtrend gần 2 năm giảm từ 1170 về 234 tạo đáy rồi cũng hồi phục đi lên tới bây giờ . HNX ra đời sau VN index , thoi 2007 cũng tăng lên hon 470 điểm , rồi rơi về hơn 50 điểm vào cuối năm 2012 , vừa rồi tăng lên...\n",
              "111  pigbank đã viết: ↑ Lịch sử luôn lặp lại , tháng 10 năm 2003 , index rơi từ đỉnh hơn 570 về 130 rồi bắt đầu phục hồi, sau gần 4 năm, lên đỉnh 1170 điểm , tăng khoảng 900% , và sau đó là downtrend gần 2 năm giảm từ 1170 về 234 tạo đáy rồi cũng hồi phục đi lên tới bây giờ . HNX ra đời sau VN index , thoi 2007 cũng tăng lên hon 470 điểm , rồi rơi về hơn 50 điểm vào cuối năm 2012 , vừa rồi tăng lên...\n",
              "112  pigbank đã viết: ↑ Lịch sử luôn lặp lại , tháng 10 năm 2003 , index rơi từ đỉnh hơn 570 về 130 rồi bắt đầu phục hồi, sau gần 4 năm, lên đỉnh 1170 điểm , tăng khoảng 900% , và sau đó là downtrend gần 2 năm giảm từ 1170 về 234 tạo đáy rồi cũng hồi phục đi lên tới bây giờ . HNX ra đời sau VN index , thoi 2007 cũng tăng lên hon 470 điểm , rồi rơi về hơn 50 điểm vào cuối năm 2012 , vừa rồi tăng lên...\n",
              "113  pigbank đã viết: ↑ Lịch sử luôn lặp lại , tháng 10 năm 2003 , index rơi từ đỉnh hơn 570 về 130 rồi bắt đầu phục hồi, sau gần 4 năm, lên đỉnh 1170 điểm , tăng khoảng 900% , và sau đó là downtrend gần 2 năm giảm từ 1170 về 234 tạo đáy rồi cũng hồi phục đi lên tới bây giờ . HNX ra đời sau VN index , thoi 2007 cũng tăng lên hon 470 điểm , rồi rơi về hơn 50 điểm vào cuối năm 2012 , vừa rồi tăng lên...\n",
              "116  pigbank đã viết: ↑ Lịch sử luôn lặp lại , tháng 10 năm 2003 , index rơi từ đỉnh hơn 570 về 130 rồi bắt đầu phục hồi, sau gần 4 năm, lên đỉnh 1170 điểm , tăng khoảng 900% , và sau đó là downtrend gần 2 năm giảm từ 1170 về 234 tạo đáy rồi cũng hồi phục đi lên tới bây giờ . HNX ra đời sau VN index , thoi 2007 cũng tăng lên hon 470 điểm , rồi rơi về hơn 50 điểm vào cuối năm 2012 , vừa rồi tăng lên...\n",
              "118                                                                                                                                                                                                                       tomriddle1234 đã viết: ↑ Mấy bác xé vé nhảy tàu MSN đừng khóc nhé . Pic này ít chim lợn nhưng toàn các bác tự nhảy tàu không. Xem tất cả Tàu cũ MWG của bác phi còn bon hơn tàu mới MSN đó\n",
              "121  pigbank đã viết: ↑ Lịch sử luôn lặp lại , tháng 10 năm 2003 , index rơi từ đỉnh hơn 570 về 130 rồi bắt đầu phục hồi, sau gần 4 năm, lên đỉnh 1170 điểm , tăng khoảng 900% , và sau đó là downtrend gần 2 năm giảm từ 1170 về 234 tạo đáy rồi cũng hồi phục đi lên tới bây giờ . HNX ra đời sau VN index , thoi 2007 cũng tăng lên hon 470 điểm , rồi rơi về hơn 50 điểm vào cuối năm 2012 , vừa rồi tăng lên...\n",
              "122  pigbank đã viết: ↑ Lịch sử luôn lặp lại , tháng 10 năm 2003 , index rơi từ đỉnh hơn 570 về 130 rồi bắt đầu phục hồi, sau gần 4 năm, lên đỉnh 1170 điểm , tăng khoảng 900% , và sau đó là downtrend gần 2 năm giảm từ 1170 về 234 tạo đáy rồi cũng hồi phục đi lên tới bây giờ . HNX ra đời sau VN index , thoi 2007 cũng tăng lên hon 470 điểm , rồi rơi về hơn 50 điểm vào cuối năm 2012 , vừa rồi tăng lên...\n",
              "123  pigbank đã viết: ↑ Lịch sử luôn lặp lại , tháng 10 năm 2003 , index rơi từ đỉnh hơn 570 về 130 rồi bắt đầu phục hồi, sau gần 4 năm, lên đỉnh 1170 điểm , tăng khoảng 900% , và sau đó là downtrend gần 2 năm giảm từ 1170 về 234 tạo đáy rồi cũng hồi phục đi lên tới bây giờ . HNX ra đời sau VN index , thoi 2007 cũng tăng lên hon 470 điểm , rồi rơi về hơn 50 điểm vào cuối năm 2012 , vừa rồi tăng lên...\n",
              "124  pigbank đã viết: ↑ Lịch sử luôn lặp lại , tháng 10 năm 2003 , index rơi từ đỉnh hơn 570 về 130 rồi bắt đầu phục hồi, sau gần 4 năm, lên đỉnh 1170 điểm , tăng khoảng 900% , và sau đó là downtrend gần 2 năm giảm từ 1170 về 234 tạo đáy rồi cũng hồi phục đi lên tới bây giờ . HNX ra đời sau VN index , thoi 2007 cũng tăng lên hon 470 điểm , rồi rơi về hơn 50 điểm vào cuối năm 2012 , vừa rồi tăng lên...\n",
              "130  Bảng tin mỗi ngày: 23/11/2021 “Có tâm mới có tầm” CHÂN THÀNH VÀ ĐỈNH CAO Dòng tiền: Kết thúc phiên giao dịch ngày 22/11/2021, chỉ số VNINDEX giảm 0,35% đóng cửa ở mức 1.447,25 điểm. Giá trị giao dịch trên sàn HOSE đạt 36,397 tỷ đồng, giá trị giao dịch toàn thị trường tính cả 3 sàn đạt 45,447.8 tỷ đồng, giảm 19.0% so với phiên liền trước. NĐT nước ngoài MUA ròng 565.4 tỷ đồng Mua ròng các mã: V...\n",
              "132  PNJ: Sau 3 tháng thua lỗ liên tiếp, PNJ đã có lãi 120 tỷ đồng trong tháng 10 HVN: Thời buổi khó khăn, Vietnam Airlines mở thêm sàn TMĐT: Phục vụ việc đi chợ đến bán cơm, bánh mì, trà sữa, rượu vang MWG: Tìm động lực tăng trưởng, Thế giới Di động mở bán cả trang sức APG: chào bán 73,15 triệu cổ phiếu, tăng vốn điều lệ lên 1.460 tỷ đồng DIG: Lợi nhuận trước thuế năm 2021 ước đạt 1.200 tỷ đồng, h...\n",
              "137  Kingtesla đã viết: ↑ Sắp tung tin định giá mới cho HPG, kiểu như các cty chứng khoán vừa tung tin định giá mới cho MWG thôi. Nhưng ko biết các lái giữ tin cho ngày mai hay ngày kia rồi mới tung. Hoặc là tuần này để hồi kỹ thuật theo thị trường rồi 4h chiều thứ 6 mới tung để tuần sau kéo nhẹ tựa lông hồng haha. Xem tất cả Đợt này e nghĩ đánh lên khi ra thôbg tin sản lượng tháng 11. Ra tháng 10-...\n",
              "149  ✅Bảng tin mỗi ngày: 22/11/2021 “Có tâm mới có tầm” CHÂN THÀNH VÀ ĐỈNH CAO ✅Dòng tiền: Kết thúc phiên giao dịch ngày 19/11/2021, chỉ số VNINDEX giảm 1,19% đóng cửa ở mức 1.452,35 điểm. -Giá trị giao dịch trên sàn HOSE đạt 44,570 tỷ đồng, giá trị giao dịch toàn thị trường tính cả 3 sàn đạt 56,105.3 tỷ đồng, tăng 31.8% so với phiên liền trước. Đây là mức kỷ lục thanh khoản mới đối với cả sàn HOSE...\n",
              "150  InvestorVNstock đã viết: ↑ Cả 2 con Robots đều báo tín hiệu như nhau. Rồi 9/10 chuyên gia trong và ngoài nước mà nhóm em lấy phân tích và ý kiến đã đưa ra nhận định như thế. Chuyên gia và robots báo dòng tiền lớn dòng tiền thông minh sẽ rút khỏi Penny Midcap đã tăng nóng tăng ảo như IDI EVG DAG TNI CEO CII HBC APG AGR LDG HAR HAI HAG TTB HID HCD HHS HQC SCR DRH BCG AMD VHG KLF ROS FLC ART DLG ...\n",
              "151  Nước hoa mua ở châu âu thơm hơn mua ở Singapore, mua ở Singapore thơm hơn mua ở VN. Thuốc cũng vậy, đồ điện tử cũng vậy. Chất lượng giảm dần nhưng giá ngang nhau. Nếu bán thì có thể bán các nhãn hiệu gốc để người dân có nhiều lựa chọn mua hàng chất lượng. Việt Nam hình như đang có nhưng ít các cửa hàng bán đồ cho cấp trung bình cộng, là những người có tiền nhưng chưa hiểu biết nhiều, mua đồ đắ...\n",
              "154  m99 đã viết: ↑ Bạn suy nghĩ như vậy thì không tồn tại được trên TT đâu. Làm gì có khái niệm \"chắc chắn tăng\" hoặc \"tăng nữa, tăng mãi\". Dài hạn 10-20 năm nó là uptrend nhưng nó đi ziczac, 2 năm tạo đỉnh rồi 2 năm tích luỹ rồi lại lên tiếp chẳng hạn. Trong mỗi 2 năm đó nó cũng zizac theo quý, rồi quý zizac theo tuần.... Còn TT hay cổ phiếu đều có \"lái\", gọi sang là \"tạo lập\". Bạn nghĩ HPG vol 5...\n",
              "155  goldmustdie đã viết: ↑ Phiên rũ mạnh ngày cuối tuần đả cho thấy rõ ý đồ lái lẹo cái.Các bác có nhận thấy giống tui không? 1.Đả rủ bỏ phần lớn những trader yếu vía ra khỏi nhóm ngân hàng để nhẹ tàu thuận lợi cho quá trình đánh lên. 2.Đẩy một lượng tiền mặt đủ lớn đứng ngoài cuộc chơi,đây sẽ là nguồn cầu tiềm năng đủ lớn để tạo sóng ngân hàng với hàng tỷ tỷ cổ phiếu.... Nhìn vào biểu đồ của nhóm...\n",
              "156  tomriddle1234 đã viết: ↑ Lũy kế đến 19.11.2021, Top 10 MUA RÒNG của tự doanh: 1. MWG - Giá trị 741,907 tỷ - lãi 75,90% 2. KDH - Giá trị 642,437 tỷ - lãi 72,32% 3. FPT - Giá trị 544,937 tỷ - lãi 89,34% 4. CTG - Giá trị 414,952 tỷ - lãi 22,53% 5. TCB - Giá trị 331,299 tỷ- lãi 66,03% 6. STB - Giá trị 328,946 tỷ - lãi 65,09% 7. PNJ - Giá trị 320,945 tỷ - lãi 27,52% 8. VPB - Giá trị: 267,861 tỷ - l...\n",
              "158  Lũy kế đến 19.11.2021, Top 10 MUA RÒNG của tự doanh: 1. MWG - Giá trị 741,907 tỷ - lãi 75,90% 2. KDH - Giá trị 642,437 tỷ - lãi 72,32% 3. FPT - Giá trị 544,937 tỷ - lãi 89,34% 4. CTG - Giá trị 414,952 tỷ - lãi 22,53% 5. TCB - Giá trị 331,299 tỷ- lãi 66,03% 6. STB - Giá trị 328,946 tỷ - lãi 65,09% 7. PNJ - Giá trị 320,945 tỷ - lãi 27,52% 8. VPB - Giá trị: 267,861 tỷ - lãi 100,48% 9. MSN - Giá t...\n",
              "169  -Cổ đông vàng trắng hò nhau gồng lãi do giá cao su vẫn tiếp tục tăng cao, RTB quán quân trong nhịp tăng này. ✅Bảng tin mỗi ngày: 19/11/2021 “Có tâm mới có tầm” CHÂN THÀNH VÀ ĐỈNH CAO Kết thúc phiên giao dịch ngày 18/11/2021, chỉ số VNINDEX giảm 0,41% đóng cửa ở mức 1469,83 điểm. Giá trị giao dịch trên sàn HOSE đạt 34,747 tỷ đồng, giá trị giao dịch toàn thị trường tính cả 3 sàn đạt 42.569 tỷ đồ...\n",
              "173  cobonla2000 đã viết: ↑ Trích: https://www.facebook.com/do.q.chi.1/posts/4158023547634878 HPG là một trong 3 doanh nghiệp mà Chi cho là tốt nhất, yêu thích nhất bên cạnh MWG và FPT. Sau mấy phiên thảm sát nếu mình post định giá của mình về HPG là 58-65 chắc nhận gạch đá kha khá. Tuy nhiên dám đưa ra nhận định ngược số đông lúc này mới là hay Mặc dù giá thép nhiều khả năng trên đỉnh và HPG là cổ...\n",
              "174  Trích: https://www.facebook.com/do.q.chi.1/posts/4158023547634878 HPG là một trong 3 doanh nghiệp mà Chi cho là tốt nhất, yêu thích nhất bên cạnh MWG và FPT. Sau mấy phiên thảm sát nếu mình post định giá của mình về HPG là 58-65 chắc nhận gạch đá kha khá. Tuy nhiên dám đưa ra nhận định ngược số đông lúc này mới là hay Mặc dù giá thép nhiều khả năng trên đỉnh và HPG là cổ chu kỳ nhưng Chi vẫn c...\n",
              "176  Kubinz đã viết: ↑ Nhiều bạn nick lâu năm mà nói chuyện chán ko tả nổi. Nếu tầm nhìn T+ thì nói về xu hướng là đủ, chứ nói về doanh nghiệp làm gì khi ko đủ hiểu biết. Có vài phép so sánh nhỏ nhỏ để cho mấy bạn thấy HPG đang rẻ thế nào, chỉ tính thời điểm hiện tại. HPG vốn hóa 220k tỷ, lãi 31k tỷ TCB vốn hóa 180k tỷ, lãi 17k tỷ VNM vốn hóa 180k tỷ, lãi 10k tỷ FPT vốn hóa 87k tỷ, lãi 4k tỷ MWG vố...\n",
              "184  Đáo hạn phái sinh có biến động gì lớn? Bảng tin mỗi ngày: 18/11/2021 “Có tâm mới có tầm” CHÂN THÀNH VÀ ĐỈNH CAO DÒNG TIỀN:Kết thúc phiên giao dịch ngày 17/11/2021, chỉ số VNINDEX tăng 0,64% đóng cửa ở mức 1.475,85 điểm. Giá trị giao dịch trên sàn HOSE đạt 25,893 tỷ đồng, giá trị giao dịch toàn thị trường tính cả 3 sàn đạt 32,588.1 tỷ đồng, giảm 22.8% so với phiên liền trước. NHÀ ĐẦU TƯ NƯỚC NG...\n",
              "185                                                   tqh24 đã viết: ↑ https://ndh.vn/co-phieu/khoi-ngoai-...ng-phien-17-11-vhm-duoc-gom-manh-1304029.html VHM xây nền giống vài cp trong qua khứ mình từng mua như VCB, VIC, MWG. Sau đó đều tăng từ 100-300% trong 1 năm. Mua vứt đó để sang năm. Xem tất cả Chuẩn rồi bác, nhưng thể nào cũng có chim lợn sẽ nói bác là vốn hoá lớn thế sao mà tăng đc cho mà coi\n",
              "186  Big_girl_2014 đã viết: ↑ 1. Nay tự doanh bán ròng nhưng tiếp tục mua ròng VHM 12 tỏi 2. Tây lông thì nay chơi điệu slow nhưng cũng tráng miệng 150 tỏi 3. Còn gì để mà đè nữa, đè phát nào cụt phát đó Cùng dự đoán ngày mai nào Xem tất cả https://ndh.vn/co-phieu/khoi-ngoai-...ng-phien-17-11-vhm-duoc-gom-manh-1304029.html VHM xây nền giống vài cp lớn trong qua khứ mình từng mua như VCB, VIC, MWG. ...\n",
              "191  ✅Bảng tin mỗi ngày: 17/11/2021 “Có tâm mới có tầm” CHÂN THÀNH VÀ ĐỈNH CAO ✅ DÒNG TIỀN: Kết thúc phiên giao dịch ngày 16/11/2021, chỉ số VNINDEX giảm 0,69% đóng cửa ở mức 1.466,45 điểm. Giá trị giao dịch trên sàn HOSE đạt 34,611 tỷ đồng, giá trị giao dịch toàn thị trường tính cả 3 sàn đạt 42,220.4 tỷ đồng, Giảm 0.9% so với phiên liền trước. ✅NHÀ ĐẦU TƯ NƯỚC NGOÀI: Tiếp tục mua ròng tập trung MS...\n",
              "201  baothanhthien đã viết: ↑ Với phiên vét hàng cuối giờ hôm qua, bên mua đã thể hiện kỳ vọng ít nhất 4x trong vài ngày nữa. Ghê thặc, chỉ 20 phút từ trần bà con xả về gần tham chiếu nhưng bị hốt sạch và đẩy giá lên lại trần. Cho nên hàng có lái và trong nhịp sóng BDS thì các yếu tố tồn kho, quỹ đất, lợi nhuận tốt chỉ là yếu tố hỗ trợ cho nhịp sóng thôi chứ không phải là yếu tố quyết định tăng hay...\n",
              "202  baothanhthien đã viết: ↑ Với phiên vét hàng cuối giờ hôm qua, bên mua đã thể hiện kỳ vọng ít nhất 4x trong vài ngày nữa. Ghê thặc, chỉ 20 phút từ trần bà con xả về gần tham chiếu nhưng bị hốt sạch và đẩy giá lên lại trần. Cho nên hàng có lái và trong nhịp sóng BDS thì các yếu tố tồn kho, quỹ đất, lợi nhuận tốt chỉ là yếu tố hỗ trợ cho nhịp sóng thôi chứ không phải là yếu tố quyết định tăng hay...\n",
              "203  Góc nhìn CTCK: Xu hướng tăng của Index chưa chấm dứt nhưng rủi ro tại các cổ phiếu đầu cơ đang tăng cao 16-11-2021 - 00:03 AM | Thị trường chứng khoán BÁO NÓI - 3:02 Chứng khoán Rồng Việt (VDSC) đánh giá nhịp tăng trưởng của nhóm cổ phiếu vừa và nhỏ đang có dấu hiệu chốt lãi, nên các nhà đầu tư cần cẩn trọng với nhóm cổ phiếu này để tránh rủi ro trong ngắn hạn. Lịch chốt quyền nhận cổ tức bằng...\n",
              "204  Với phiên vét hàng cuối giờ hôm qua, bên mua đã thể hiện kỳ vọng ít nhất 4x trong vài ngày nữa. Ghê thặc, chỉ 20 phút từ trần bà con xả về gần tham chiếu nhưng bị hốt sạch và đẩy giá lên lại trần. Cho nên hàng có lái và trong nhịp sóng BDS thì các yếu tố tồn kho, quỹ đất, lợi nhuận tốt chỉ là yếu tố hỗ trợ cho nhịp sóng thôi chứ không phải là yếu tố quyết định tăng hay giảm. Nhiều doanh nghiệp...\n",
              "210  F0moinhat đã viết: ↑ Dòng tiền khủng, cứ dòng chứng mà múc nhiệt tình sẽ hưởng thành quả. Xem tất cả Hôm nay quá trời các cụ chốt lời lúc 14 h nên vni down xuống thì dòng tiền ở ngoài nhiều chờ cơ hội gom luôn. Mất hàng. Cik nay lại càng nhiều và mai lại vni bay mạnh và dòng chứng lại hưởng lợi. Thị trường chứng khoán (15/11): Hơn 160 cổ phiếu tăng trần, dòng tiền mạnh đẩy VN-Index bật tăng hơ...\n",
              "216  tomriddle1234 đã viết: ↑ 295,5k ATC trong đó chỉ có hơn 100k của tây lông khớp lệnh Vậy gần 200k còn lại là của ai đây Tôi xin nhắc lại là 100 tỷ của các anh VCI vẫn nằm im và tin chia cổ tức 2:1 chưa xác định . --- Gộp bài viết, 15/11/2021 lúc 14:54, Bài cũ: 15/11/2021 lúc 14:52 --- Từ từ bác . Tàu chạy nối đuôi nhau là vui nhất đấy . Chứ tàu chạy song song, không vui lắm đâu . Xem tất cả Chắ...\n",
              "223  Chờ đợi sự trở lại của cổ phiếu blue-chip Triêu Dương 14/11/2021 – Thị trường đang dần xuất hiện một số tín hiệu cho thấy dòng tiền dường như đang luân chuyển sang nhóm cổ phiếu vốn hóa lớn trong những ngày gần đây. Tín hiệu xuất hiện Hơn ba tháng qua, trong khi nhóm cổ phiếu vốn hóa trung bình (midcap) và vốn hóa nhỏ (penny) liên tục nổi sóng và thiết lập các đỉnh cao mới, nhóm cổ phiếu vốn h...\n",
              "224  BigDady1516 đã viết: ↑ Giảm dự trữ bắt buộc + nới Zoom tín dụng Lồi mồm --- Gộp bài viết, 14/11/2021 lúc 18:58, Bài cũ: 14/11/2021 lúc 18:56 --- Quỹ ngoại tự doanh mua mạnh B cả tuần, chốt lãi hàng khác cho nhỏ lẻ --- Gộp bài viết, 14/11/2021 lúc 19:01 --- Ace chú ý vào hàng : FPT, MWG, PNJ, TCB, HDB, STB, VPB, MBB, PLX, NVL ... Xem tất cả - VN 30 ace chọn hàng trong này no đủ Điểm số việc của...\n",
              "225  BigDady1516 đã viết: ↑ Giảm dự trữ bắt buộc + nới Zoom tín dụng Lồi mồm --- Gộp bài viết, 14/11/2021 lúc 18:58, Bài cũ: 14/11/2021 lúc 18:56 --- Quỹ ngoại tự doanh mua mạnh B cả tuần, chốt lãi hàng khác cho nhỏ lẻ --- Gộp bài viết, 14/11/2021 lúc 19:01 --- Ace chú ý vào hàng : FPT,MWG,PNJ,TCB,HDB,STB,VPB,MBB ... Xem tất cả Giảm DTBB thì không chắc nhưng nới room thì nhiều khả năng sẽ xem xét t...\n",
              "227                                                                                                               Giảm dự trữ bắt buộc + nới Zoom tín dụng Lồi mồm --- Gộp bài viết, 14/11/2021 lúc 18:58, Bài cũ: 14/11/2021 lúc 18:56 --- Quỹ ngoại tự doanh mua mạnh B cả tuần, chốt lãi hàng khác cho nhỏ lẻ --- Gộp bài viết, 14/11/2021 lúc 19:01 --- Ace chú ý vào hàng : FPT,MWG,PNJ,TCB,HDB,STB,VPB,MBB ...\n",
              "233  Dungck đã viết: ↑ Đang có 6 phiên tăng, ngày nào cũng xanh thì bán sẽ rớt hàng, liệu có như Abs lúc giá12 loạt xanh hơn tháng, đỉnh 80. Xem tất cả Mô hình ban đầu tăng chài chài không gấp của Abs giống Yeg tăng đều và kinh điển lắm. Như Ric đó 4 lên 50. hôm bữa rớt 16.8 mua lại 16.9 đó bác. hụt vol. T3 về ai cũng tâm lý chốt nên đây cũng là cơ hội để lái gom và đánh luôn. Bác Tính xem quảng cá...\n",
              "234  Tinhledt đã viết: ↑ - Sóng Bank vĩ đại đưa VNI lên tầm cao mới 1600 1800 - Sóng Bán lẻ cho Quý 4, lễ hội mua sắm, mua sắm trả thù Danh mục các mã tham khảo - Bank: TCB,HDB, STB, EIB, ACB, CTG... - Bán Lẻ: PNJ, MWG, MSN, VRE, PET, VNM, MCH.. Chúc anh em thành công trên con đường đầu tư. Cheer! ..................................................... Kỳ vọng tăng trưởng kinh tế năm 2022 khả quan, D...\n",
              "235  ✅Bảng tin mỗi ngày: 15/11/2021 “Có tâm mới có tầm” CHÂN THÀNH VÀ ĐỈNH CAO ✅ DÒNG TIỀN: Kết thúc phiên giao dịch ngày 12/11/2021, chỉ số VNINDEX tăng 0,75% đóng cửa ở mức 1.473,37 điểm, mốc đóng cửa cao nhất từ trước đến nay. Giá trị giao dịch trên sàn HOSE đạt 26,360 tỷ đồng, giá trị giao dịch toàn thị trường tính cả 3 sàn đạt 34,408.4 tỷ đồng, giảm 24.9% so với phiên liền trước. ✅NHÀ ĐẦU TƯ N...\n",
              "237  Tinhledt đã viết: ↑ - Sóng Bank vĩ đại đưa VNI lên tầm cao mới 1600 1800 - Sóng Bán lẻ cho Quý 4, lễ hội mua sắm, mua sắm trả thù Danh mục các mã tham khảo - Bank: TCB,HDB, STB, EIB, ACB, CTG... - Bán Lẻ: PNJ, MWG, MSN, VRE, PET, VNM, MCH.. Chúc anh em thành công trên con đường đầu tư. Cheer! ..................................................... Kỳ vọng tăng trưởng kinh tế năm 2022 khả quan, D...\n",
              "239  Kingtesla đã viết: ↑ Dạ, em lười nghiên cứu sâu xem HP đang làm gì, em chỉ nghĩ sơ sơ thấy VN muốn tiến lên thành nước phát triển thì cần xây dựng thêm hơn 20 năm nữa, tốc độ tăng liên tục theo GDP thì cũng phải 10-15 năm nữa mới giảm. Còn lại em tin chắc là đầu óc của ban lãnh đạo một tập đoàn trăm nghìn tỉ thì phải hơn em cả trăm lần nên em khỏi suy nghĩ mắc công. Chỉ cần xem HP bán được hàn...\n",
              "240  Tinhledt đã viết: ↑ - Sóng Bank vĩ đại đưa VNI lên tầm cao mới 1600 1800 - Sóng Bán lẻ cho Quý 4, lễ hội mua sắm, mua sắm trả thù Danh mục các mã tham khảo - Bank: TCB,HDB, STB, EIB, ACB, CTG... - Bán Lẻ: PNJ, MWG, MSN, VRE, PET, VNM, MCH.. Chúc anh em thành công trên con đường đầu tư. Cheer! ..................................................... Kỳ vọng tăng trưởng kinh tế năm 2022 khả quan, D...\n",
              "243  Tinhledt đã viết: ↑ - Sóng Bank vĩ đại đưa VNI lên tầm cao mới 1600 1800 - Sóng Bán lẻ cho Quý 4, lễ hội mua sắm. Danh mục các mã tham khảo - Bank: TCB, STB, EIB, ACB, CTG - Bán Lẻ: MWG, MSN, VRE, PET Chúc anh em thành công trên con đường đầu tư. Cheer! ..................................................... Kỳ vọng tăng trưởng kinh tế năm 2022 khả quan, Dragon Capital đánh giá chứng khoán Việt ...\n",
              "247  InvestorVNstock đã viết: ↑ Cuối tuần lại nhận được bảng định giá mới của 8 cty Ck lớn vừa gửi. Chắc dựa vào lượng tiền khổng lồ đổ vào thị trường nên lần này giá các cp trên sàn cuối năm 2021 và 2022 thay đổi chóng mặt luôn. Em xin show định giá của khoảng 40-60 mã trong danh sách trên 500 mã em vừa nhận từ 8 cty ck lớn nơi em mở tk: 1. DIG cuối 2021 là 160, 2022 là 260 2. CII ....60.....100 3...\n",
              "248  S18 đã viết: ↑ Mới lập pic lại mà nay thị trường lại phản đòn kinh quá . Cũng phải cảm ơn bác đó hôm trước lập đàn làm lái rũ đc thêm đống nhỏ lẻ xuống sân ga . Xem tất cả Vâng ngon mà, thị trường tăng giảm lọc con ngon thôi em biết ngay thị trường nó lại vả cho cái tội lấy số mà thôi chém gió lấy số nói chung chung không chấp.Người non nghe theo phải chịu chứ hơi đâu mình đi khuyên can chả lợ...\n",
              "250  Tự doanh tiếp tục mua ròng trong phiên Vn-Index lại có đỉnh mới ngày 12.11, FLC vẫn tiếp tục góp mặt trong danh sách. Trên sàn HoSE, khối tự doanh công ty chứng khoán tiếp tục mua ròng 160.24 tỷ đồng, với tâm điểm mua là cổ phiếu PNJ và FPT. Trong phiên giao dịch hôm nay, khối tự doanh mua vào 401.68 tỷ đồng và bán ra 241.44 tỷ đồng. Tính chung, khối tự doanh mua ròng 160.24 tỷ đồng. Chiều mua...\n",
              "251  VPBankQuan đã viết: ↑ MWG thông báo tái cơ cấu các công ty con và công ty liên kết nhỏ CTCP Đầu tư Thế Giới Di Động (MWG) công bố các hoạt động tái cấu trúc doanh nghiệp như sau: 1. Cổ phần hóa CT TNHH Dịch vụ Lắp đặt - Sửa chữa - Bảo hành Tận Tâm (cụ thể, công ty con cung cấp các dịch vụ hậu mãi cho TGDĐ và ĐMX) và CT TNHH MTV 4K Farm (cụ thể, công ty con làm việc với nông dân ký hợp đồng sản...\n",
              "254  tomriddle1234 đã viết: ↑ Lũy kế đến 12.11.2021, Top 10 MUA RÒNG của tự doanh: 1. MWG - Giá trị 743,297 tỷ - lãi 72,11% 2. KDH - Giá trị 634,015 tỷ - lãi 85,83% 3. FPT - Giá trị 484,70 tỷ - lãi 94,70% 4. CTG - Giá trị 410,311 tỷ - lãi 22,15% 5. STB - Giá trị 342,795 tỷ - lãi 66,27% 6. TCB - Giá trị 327,190 tỷ- lãi 66,67% 7. MSN - Giá trị 290,99 tỷ - lãi 69,72% 8. VHM - Giá trị 285,167 tỷ - lãi ...\n",
              "255  Lũy kế đến 12.11.2021, Top 10 MUA RÒNG của tự doanh: 1. MWG - Giá trị 743,297 tỷ - lãi 72,11% 2. KDH - Giá trị 634,015 tỷ - lãi 85,83% 3. FPT - Giá trị 484,70 tỷ - lãi 94,70% 4. CTG - Giá trị 410,311 tỷ - lãi 22,15% 5. STB - Giá trị 342,795 tỷ - lãi 66,27% 6. TCB - Giá trị 327,190 tỷ- lãi 66,67% 7. MSN - Giá trị 290,99 tỷ - lãi 69,72% 8. VHM - Giá trị 285,167 tỷ - lãi 20,81% 9. PNJ - Giá trị 2...\n",
              "266  Kingtesla đã viết: ↑ Em cũng hóng theo ạ, nhờ các bác chỉ giúp thêm ạ! Em F0 nên em nghĩ là thế này, chính phủ cần tạo điều kiện cho dòng tiền xoay vòng thì mới tạo ra tăng trưởng kinh tế, và phải cứu doanh nghiệp, nếu không thì downh nghiệp chết nhiều thì thu thuế nhà nước cũng giảm. Vậy nếu bơm tiền thì thông qua ngân hàng, ngân hàng qua đó sẽ có lãi. Gói kích thích kinh tế để doanh nghiệp y...\n",
              "271  haidang2016 đã viết: ↑ Trong nhóm MWG thì anh chị đầu tư cơ bản và lâu dài cho em hỏi cái, tại sao hiện nay các cổ rác lỗ đậm lại tăng nhiều lần, còn một số cổ trụ cột làm ăn nghiêm túc bài bản và có lợi nhuận ổn thì lại cách xa đỉnh với ạ, em xem p/e thì các mã rác p/e toàn vài chục thậm chí vài trăm thì lợi ích gì khi ndt mua? Xem tất cả Tất cả ở 2 chữ kỳ vọng. Có kỳ vọng cp sẽ lên. Người ta...\n",
              "272  haidang2016 đã viết: ↑ Trong nhóm MWG thì anh chị đầu tư cơ bản và lâu dài cho em hỏi cái, tại sao hiện nay các cổ rác lỗ đậm lại tăng nhiều lần, còn một số cổ trụ cột làm ăn nghiêm túc bài bản và có lợi nhuận ổn thì lại cách xa đỉnh với ạ, em xem p/e thì các mã rác p/e toàn vài chục thậm chí vài trăm thì lợi ích gì khi ndt mua? Xem tất cả Em cũng hóng theo ạ, nhờ các bác chỉ giúp thêm ạ! Em F...\n",
              "278  avatar3D đã viết: ↑ Những blue như hpg thì chim sáo nổi. Hpg vừa thiên thời, địa lợi, nhân hoà. Giáo tiền cho người giỏi và tham vọng như bác Long là quá chính xác. Các quyết định của bác đều có tầm nhìn và đi đúng xu thế. Gút chóp. Cổ đông fomo các cp khác nên đang bán ra thui. Tranh thủ ghom đoạn này ngon đó. Xem tất cả Ah, ra là bác đang ở đây, nhớ hôm trước lúc bác chim lợn MWG em mới nói ...\n",
              "279  ✅Bảng tin mỗi ngày: 12/11/2021 “Có tâm mới có tầm” CHÂN THÀNH VÀ ĐỈNH CAO ✅ DÒNG TIỀN: Kết thúc phiên giao dịch ngày 11/11/2021, chỉ số VNINDEX giảm 0,18% đóng cửa ở mức 1.462,35 điểm. Giá trị giao dịch trên sàn HOSE đạt 37,915 tỷ đồng, giá trị giao dịch toàn thị trường tính cả 3 sàn đạt 45,791.0 tỷ đồng, tăng 26.1% so với phiên liền trước. ✅NHÀ ĐẦU TƯ NƯỚC NGOÀI: Đẩy mạnh bán ròng tập trung n...\n",
              "280  tomriddle1234 đã viết: ↑ Game MSN có thể nói là game tiền tươi thóc thật lớn nhất VN30 năm 2021 luôn rồi mà bác . Đâu phải tự dưng tôi đem toàn bộ nhà cửa tài sản còn vay mượn thêm vứt vào MSN làm gì nếu không biết là ăn chắc rồi . --- Gộp bài viết, 11/11/2021 lúc 16:35, Bài cũ: 11/11/2021 lúc 16:19 --- Các bác đừng quên MSN năm 2020 đã từng từ 4x lên 9x trong 13 phiên giao dịch sau 41 phiên đ...\n",
              "282  Haku đã viết: ↑ Hết giờ thì tin ra Để xem mai các anh đánh đấm thế nào Xem tất cả Game MSN có thể nói là game tiền tươi thóc thật lớn nhất VN30 năm 2021 luôn rồi mà bác . Đâu phải tự dưng tôi đem toàn bộ nhà cửa tài sản còn vay mượn thêm vứt vào MSN làm gì nếu không biết là ăn chắc rồi . --- Gộp bài viết, 11/11/2021 lúc 16:35, Bài cũ: 11/11/2021 lúc 16:19 --- Các bác đừng quên MSN năm 2020 đã ..."
            ]
          },
          "metadata": {},
          "execution_count": 26
        }
      ]
    }
  ]
}